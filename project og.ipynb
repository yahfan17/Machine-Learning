{
 "cells": [
  {
   "cell_type": "code",
   "execution_count": null,
   "metadata": {
    "id": "INiAXBvS5Nq2"
   },
   "outputs": [],
   "source": []
  },
  {
   "cell_type": "code",
   "execution_count": 1,
   "metadata": {
    "id": "7XYWsgz6xCSU"
   },
   "outputs": [],
   "source": [
    "# For Data manipulation and Analaysis\n",
    "import pandas as pd\n",
    "import numpy as np\n",
    "\n",
    "# For Data Visualization\n",
    "import matplotlib.pyplot as plt\n",
    "import seaborn as sns\n",
    "\n",
    "# For Data Preprocessing\n",
    "from sklearn.model_selection import train_test_split\n",
    "from sklearn.preprocessing import StandardScaler, OneHotEncoder, OrdinalEncoder\n",
    "\n",
    "# For feature selection and hyperparameter tuning\n",
    "from sklearn.model_selection import  GridSearchCV\n",
    "\n",
    "# Machine Learning Models\n",
    "from sklearn.linear_model import LogisticRegression\n",
    "from sklearn.tree import DecisionTreeClassifier\n",
    "from sklearn.ensemble import RandomForestClassifier\n",
    "from sklearn.svm import SVC\n",
    "from sklearn.neighbors import KNeighborsClassifier\n",
    "from xgboost import XGBClassifier\n",
    "from sklearn.metrics import classification_report, confusion_matrix, accuracy_score\n",
    "from sklearn.naive_bayes import GaussianNB\n",
    "from sklearn.model_selection import cross_val_score\n",
    "#warnin\n",
    "import warnings\n",
    "warnings.filterwarnings(\"ignore\")\n",
    "\n",
    "# To save the model\n",
    "import joblib"
   ]
  },
  {
   "cell_type": "code",
   "execution_count": 2,
   "metadata": {
    "id": "CoOcpZ415ReV"
   },
   "outputs": [],
   "source": [
    "#import dataset\n",
    "df=pd.read_csv(\"Modified_XSS_Attack_Dataset.csv\")"
   ]
  },
  {
   "cell_type": "code",
   "execution_count": 3,
   "metadata": {
    "colab": {
     "base_uri": "https://localhost:8080/",
     "height": 634
    },
    "id": "cEf3rIrS5r0Q",
    "outputId": "c25d4312-e5f5-4b14-9ce4-880b9e708750"
   },
   "outputs": [
    {
     "data": {
      "text/html": [
       "<div>\n",
       "<style scoped>\n",
       "    .dataframe tbody tr th:only-of-type {\n",
       "        vertical-align: middle;\n",
       "    }\n",
       "\n",
       "    .dataframe tbody tr th {\n",
       "        vertical-align: top;\n",
       "    }\n",
       "\n",
       "    .dataframe thead th {\n",
       "        text-align: right;\n",
       "    }\n",
       "</style>\n",
       "<table border=\"1\" class=\"dataframe\">\n",
       "  <thead>\n",
       "    <tr style=\"text-align: right;\">\n",
       "      <th></th>\n",
       "      <th>App Names</th>\n",
       "      <th>Permissions</th>\n",
       "      <th>API Name</th>\n",
       "      <th>Website Name</th>\n",
       "      <th>IP</th>\n",
       "      <th>Location</th>\n",
       "      <th>Label</th>\n",
       "      <th>Request Type</th>\n",
       "      <th>Response Code</th>\n",
       "      <th>Attack Type</th>\n",
       "      <th>Payload Size (KB)</th>\n",
       "    </tr>\n",
       "  </thead>\n",
       "  <tbody>\n",
       "    <tr>\n",
       "      <th>0</th>\n",
       "      <td>Navaratri Navarang</td>\n",
       "      <td>REQUEST_INSTALL_PACKAGES,SET_ALARM,SET_WALLPAPER</td>\n",
       "      <td>Not Sensitive</td>\n",
       "      <td>http://www.grellin.ca</td>\n",
       "      <td>123.130.169.7</td>\n",
       "      <td>Jamaica</td>\n",
       "      <td>No</td>\n",
       "      <td>DELETE</td>\n",
       "      <td>400</td>\n",
       "      <td>CSRF</td>\n",
       "      <td>353</td>\n",
       "    </tr>\n",
       "    <tr>\n",
       "      <th>1</th>\n",
       "      <td>Chinese Ancient Music</td>\n",
       "      <td>WRITE_SYNC_SETTINGS,READ_CALENDAR,WRITE_CALEND...</td>\n",
       "      <td>getAuthToken</td>\n",
       "      <td>http://www.turmir.org/</td>\n",
       "      <td>217.17.240.0</td>\n",
       "      <td>Kenya</td>\n",
       "      <td>Yes</td>\n",
       "      <td>DELETE</td>\n",
       "      <td>500</td>\n",
       "      <td>Not an Attack</td>\n",
       "      <td>136</td>\n",
       "    </tr>\n",
       "    <tr>\n",
       "      <th>2</th>\n",
       "      <td>Tranquility</td>\n",
       "      <td>DISABLE_KEYGUARD,EXPAND_STATUS_BAR,GET_PACKAGE...</td>\n",
       "      <td>Not Sensitive</td>\n",
       "      <td>http://www.fircix.com/</td>\n",
       "      <td>156.240.194.38</td>\n",
       "      <td>Somalia</td>\n",
       "      <td>No</td>\n",
       "      <td>GET</td>\n",
       "      <td>401</td>\n",
       "      <td>CSRF</td>\n",
       "      <td>211</td>\n",
       "    </tr>\n",
       "    <tr>\n",
       "      <th>3</th>\n",
       "      <td>Medical Image Puzzle</td>\n",
       "      <td>ANSWER_PHONE_CALLS,READ_CALL_LOG,WRITE_CALL_LO...</td>\n",
       "      <td>getCertificate</td>\n",
       "      <td>http://www.intono.org/</td>\n",
       "      <td>12.176.37.134</td>\n",
       "      <td>Bangladesh</td>\n",
       "      <td>Yes</td>\n",
       "      <td>POST</td>\n",
       "      <td>404</td>\n",
       "      <td>XSS</td>\n",
       "      <td>47</td>\n",
       "    </tr>\n",
       "    <tr>\n",
       "      <th>4</th>\n",
       "      <td>EscapeGame N29 - Cave Escape</td>\n",
       "      <td>ACCESS_LOCATION_EXTRA_COMMANDS,ACCESS_NETWORK_...</td>\n",
       "      <td>Not Sensitive</td>\n",
       "      <td>http://www.uratax.com/</td>\n",
       "      <td>185.236.132.0</td>\n",
       "      <td>Nigeria</td>\n",
       "      <td>No</td>\n",
       "      <td>DELETE</td>\n",
       "      <td>200</td>\n",
       "      <td>DDoS</td>\n",
       "      <td>468</td>\n",
       "    </tr>\n",
       "    <tr>\n",
       "      <th>...</th>\n",
       "      <td>...</td>\n",
       "      <td>...</td>\n",
       "      <td>...</td>\n",
       "      <td>...</td>\n",
       "      <td>...</td>\n",
       "      <td>...</td>\n",
       "      <td>...</td>\n",
       "      <td>...</td>\n",
       "      <td>...</td>\n",
       "      <td>...</td>\n",
       "      <td>...</td>\n",
       "    </tr>\n",
       "    <tr>\n",
       "      <th>19995</th>\n",
       "      <td>Spanisch Deutsch Wörterbuch</td>\n",
       "      <td>ACCESS_LOCATION_EXTRA_COMMANDS,ACCESS_NETWORK_...</td>\n",
       "      <td>Not Sensitive</td>\n",
       "      <td>http://www.ghelio.com/</td>\n",
       "      <td>21.194.38.94</td>\n",
       "      <td>Malawi</td>\n",
       "      <td>No</td>\n",
       "      <td>DELETE</td>\n",
       "      <td>200</td>\n",
       "      <td>CSRF</td>\n",
       "      <td>252</td>\n",
       "    </tr>\n",
       "    <tr>\n",
       "      <th>19996</th>\n",
       "      <td>ShotSynth</td>\n",
       "      <td>RECEIVE_BOOT_COMPLETED,REORDER_TASKS,REQUEST_C...</td>\n",
       "      <td>getParams</td>\n",
       "      <td>http://www.adoorig.ca</td>\n",
       "      <td>47.137.2.183</td>\n",
       "      <td>Egypt</td>\n",
       "      <td>Yes</td>\n",
       "      <td>GET</td>\n",
       "      <td>403</td>\n",
       "      <td>XSS</td>\n",
       "      <td>76</td>\n",
       "    </tr>\n",
       "    <tr>\n",
       "      <th>19997</th>\n",
       "      <td>ArmAware</td>\n",
       "      <td>REQUEST_INSTALL_PACKAGES,SET_ALARM,SET_WALLPAPER</td>\n",
       "      <td>getAuthToken</td>\n",
       "      <td>http://www.mapeem.org/</td>\n",
       "      <td>188.16.254.33</td>\n",
       "      <td>Djibouti</td>\n",
       "      <td>Yes</td>\n",
       "      <td>PUT</td>\n",
       "      <td>404</td>\n",
       "      <td>DDoS</td>\n",
       "      <td>481</td>\n",
       "    </tr>\n",
       "    <tr>\n",
       "      <th>19998</th>\n",
       "      <td>Switcher Game</td>\n",
       "      <td>KILL_BACKGROUND_PROCESSES,MANAGE_OWN_CALLS,MOD...</td>\n",
       "      <td>sendMultipartTextMessage</td>\n",
       "      <td>http://www.pacuppral.net/</td>\n",
       "      <td>43.231.24.0</td>\n",
       "      <td>Fiji</td>\n",
       "      <td>Yes</td>\n",
       "      <td>GET</td>\n",
       "      <td>301</td>\n",
       "      <td>Not an Attack</td>\n",
       "      <td>448</td>\n",
       "    </tr>\n",
       "    <tr>\n",
       "      <th>19999</th>\n",
       "      <td>TaxiLike</td>\n",
       "      <td>BLUETOOTH,BLUETOOTH_ADMIN,BROADCAST_STICKY,CHA...</td>\n",
       "      <td>getPassword</td>\n",
       "      <td>http://www.urdoree.ca</td>\n",
       "      <td>185.170.12.0</td>\n",
       "      <td>Iraq</td>\n",
       "      <td>Yes</td>\n",
       "      <td>GET</td>\n",
       "      <td>500</td>\n",
       "      <td>CSRF</td>\n",
       "      <td>265</td>\n",
       "    </tr>\n",
       "  </tbody>\n",
       "</table>\n",
       "<p>20000 rows × 11 columns</p>\n",
       "</div>"
      ],
      "text/plain": [
       "                          App Names  \\\n",
       "0                Navaratri Navarang   \n",
       "1             Chinese Ancient Music   \n",
       "2                       Tranquility   \n",
       "3              Medical Image Puzzle   \n",
       "4      EscapeGame N29 - Cave Escape   \n",
       "...                             ...   \n",
       "19995   Spanisch Deutsch Wörterbuch   \n",
       "19996                     ShotSynth   \n",
       "19997                      ArmAware   \n",
       "19998                 Switcher Game   \n",
       "19999                      TaxiLike   \n",
       "\n",
       "                                             Permissions  \\\n",
       "0       REQUEST_INSTALL_PACKAGES,SET_ALARM,SET_WALLPAPER   \n",
       "1      WRITE_SYNC_SETTINGS,READ_CALENDAR,WRITE_CALEND...   \n",
       "2      DISABLE_KEYGUARD,EXPAND_STATUS_BAR,GET_PACKAGE...   \n",
       "3      ANSWER_PHONE_CALLS,READ_CALL_LOG,WRITE_CALL_LO...   \n",
       "4      ACCESS_LOCATION_EXTRA_COMMANDS,ACCESS_NETWORK_...   \n",
       "...                                                  ...   \n",
       "19995  ACCESS_LOCATION_EXTRA_COMMANDS,ACCESS_NETWORK_...   \n",
       "19996  RECEIVE_BOOT_COMPLETED,REORDER_TASKS,REQUEST_C...   \n",
       "19997   REQUEST_INSTALL_PACKAGES,SET_ALARM,SET_WALLPAPER   \n",
       "19998  KILL_BACKGROUND_PROCESSES,MANAGE_OWN_CALLS,MOD...   \n",
       "19999  BLUETOOTH,BLUETOOTH_ADMIN,BROADCAST_STICKY,CHA...   \n",
       "\n",
       "                       API Name               Website Name              IP  \\\n",
       "0                 Not Sensitive      http://www.grellin.ca   123.130.169.7   \n",
       "1                  getAuthToken     http://www.turmir.org/    217.17.240.0   \n",
       "2                 Not Sensitive     http://www.fircix.com/  156.240.194.38   \n",
       "3                getCertificate     http://www.intono.org/   12.176.37.134   \n",
       "4                 Not Sensitive     http://www.uratax.com/   185.236.132.0   \n",
       "...                         ...                        ...             ...   \n",
       "19995             Not Sensitive     http://www.ghelio.com/    21.194.38.94   \n",
       "19996                 getParams      http://www.adoorig.ca    47.137.2.183   \n",
       "19997              getAuthToken     http://www.mapeem.org/   188.16.254.33   \n",
       "19998  sendMultipartTextMessage  http://www.pacuppral.net/     43.231.24.0   \n",
       "19999               getPassword      http://www.urdoree.ca    185.170.12.0   \n",
       "\n",
       "         Location Label Request Type  Response Code    Attack Type  \\\n",
       "0         Jamaica    No       DELETE            400           CSRF   \n",
       "1           Kenya   Yes       DELETE            500  Not an Attack   \n",
       "2         Somalia    No          GET            401           CSRF   \n",
       "3      Bangladesh   Yes         POST            404            XSS   \n",
       "4         Nigeria    No       DELETE            200           DDoS   \n",
       "...           ...   ...          ...            ...            ...   \n",
       "19995      Malawi    No       DELETE            200           CSRF   \n",
       "19996       Egypt   Yes          GET            403            XSS   \n",
       "19997    Djibouti   Yes          PUT            404           DDoS   \n",
       "19998        Fiji   Yes          GET            301  Not an Attack   \n",
       "19999        Iraq   Yes          GET            500           CSRF   \n",
       "\n",
       "       Payload Size (KB)  \n",
       "0                    353  \n",
       "1                    136  \n",
       "2                    211  \n",
       "3                     47  \n",
       "4                    468  \n",
       "...                  ...  \n",
       "19995                252  \n",
       "19996                 76  \n",
       "19997                481  \n",
       "19998                448  \n",
       "19999                265  \n",
       "\n",
       "[20000 rows x 11 columns]"
      ]
     },
     "execution_count": 3,
     "metadata": {},
     "output_type": "execute_result"
    }
   ],
   "source": [
    "df"
   ]
  },
  {
   "cell_type": "code",
   "execution_count": 4,
   "metadata": {
    "colab": {
     "base_uri": "https://localhost:8080/"
    },
    "id": "mW2p2CMV-l40",
    "outputId": "f37b37cc-2ac7-4ffb-b7ac-6ae04d3ec17e"
   },
   "outputs": [
    {
     "name": "stdout",
     "output_type": "stream",
     "text": [
      "<class 'pandas.core.frame.DataFrame'>\n",
      "RangeIndex: 20000 entries, 0 to 19999\n",
      "Data columns (total 11 columns):\n",
      " #   Column             Non-Null Count  Dtype \n",
      "---  ------             --------------  ----- \n",
      " 0   App Names          20000 non-null  object\n",
      " 1   Permissions        20000 non-null  object\n",
      " 2   API Name           20000 non-null  object\n",
      " 3   Website Name       20000 non-null  object\n",
      " 4   IP                 20000 non-null  object\n",
      " 5   Location           19800 non-null  object\n",
      " 6   Label              20000 non-null  object\n",
      " 7   Request Type       20000 non-null  object\n",
      " 8   Response Code      20000 non-null  int64 \n",
      " 9   Attack Type        20000 non-null  object\n",
      " 10  Payload Size (KB)  20000 non-null  int64 \n",
      "dtypes: int64(2), object(9)\n",
      "memory usage: 1.7+ MB\n"
     ]
    }
   ],
   "source": [
    "df.info()"
   ]
  },
  {
   "cell_type": "code",
   "execution_count": 5,
   "metadata": {
    "colab": {
     "base_uri": "https://localhost:8080/"
    },
    "id": "r9VrW4DD6FIp",
    "outputId": "5403ff05-44b3-4022-ff03-aa2ac6e28a1d"
   },
   "outputs": [
    {
     "data": {
      "text/plain": [
       "(20000, 11)"
      ]
     },
     "execution_count": 5,
     "metadata": {},
     "output_type": "execute_result"
    }
   ],
   "source": [
    "#check columns and rows\n",
    "df.shape"
   ]
  },
  {
   "cell_type": "code",
   "execution_count": 6,
   "metadata": {
    "colab": {
     "base_uri": "https://localhost:8080/",
     "height": 300
    },
    "id": "WVSTVM8I6UYQ",
    "outputId": "3ba2673c-c6b2-4672-b579-0b636a6b3c1e"
   },
   "outputs": [
    {
     "data": {
      "text/html": [
       "<div>\n",
       "<style scoped>\n",
       "    .dataframe tbody tr th:only-of-type {\n",
       "        vertical-align: middle;\n",
       "    }\n",
       "\n",
       "    .dataframe tbody tr th {\n",
       "        vertical-align: top;\n",
       "    }\n",
       "\n",
       "    .dataframe thead th {\n",
       "        text-align: right;\n",
       "    }\n",
       "</style>\n",
       "<table border=\"1\" class=\"dataframe\">\n",
       "  <thead>\n",
       "    <tr style=\"text-align: right;\">\n",
       "      <th></th>\n",
       "      <th>Response Code</th>\n",
       "      <th>Payload Size (KB)</th>\n",
       "    </tr>\n",
       "  </thead>\n",
       "  <tbody>\n",
       "    <tr>\n",
       "      <th>count</th>\n",
       "      <td>20000.000000</td>\n",
       "      <td>20000.000000</td>\n",
       "    </tr>\n",
       "    <tr>\n",
       "      <th>mean</th>\n",
       "      <td>372.680600</td>\n",
       "      <td>250.009350</td>\n",
       "    </tr>\n",
       "    <tr>\n",
       "      <th>std</th>\n",
       "      <td>88.788157</td>\n",
       "      <td>143.267824</td>\n",
       "    </tr>\n",
       "    <tr>\n",
       "      <th>min</th>\n",
       "      <td>200.000000</td>\n",
       "      <td>1.000000</td>\n",
       "    </tr>\n",
       "    <tr>\n",
       "      <th>25%</th>\n",
       "      <td>301.000000</td>\n",
       "      <td>126.000000</td>\n",
       "    </tr>\n",
       "    <tr>\n",
       "      <th>50%</th>\n",
       "      <td>401.000000</td>\n",
       "      <td>250.000000</td>\n",
       "    </tr>\n",
       "    <tr>\n",
       "      <th>75%</th>\n",
       "      <td>404.000000</td>\n",
       "      <td>374.000000</td>\n",
       "    </tr>\n",
       "    <tr>\n",
       "      <th>max</th>\n",
       "      <td>500.000000</td>\n",
       "      <td>499.000000</td>\n",
       "    </tr>\n",
       "  </tbody>\n",
       "</table>\n",
       "</div>"
      ],
      "text/plain": [
       "       Response Code  Payload Size (KB)\n",
       "count   20000.000000       20000.000000\n",
       "mean      372.680600         250.009350\n",
       "std        88.788157         143.267824\n",
       "min       200.000000           1.000000\n",
       "25%       301.000000         126.000000\n",
       "50%       401.000000         250.000000\n",
       "75%       404.000000         374.000000\n",
       "max       500.000000         499.000000"
      ]
     },
     "execution_count": 6,
     "metadata": {},
     "output_type": "execute_result"
    }
   ],
   "source": [
    "df.describe()"
   ]
  },
  {
   "cell_type": "code",
   "execution_count": 7,
   "metadata": {
    "colab": {
     "base_uri": "https://localhost:8080/",
     "height": 365
    },
    "id": "ALXgSwPi6kQ3",
    "outputId": "faba949c-89b2-44da-b144-68ea21ddf9bd"
   },
   "outputs": [
    {
     "data": {
      "text/html": [
       "<div>\n",
       "<style scoped>\n",
       "    .dataframe tbody tr th:only-of-type {\n",
       "        vertical-align: middle;\n",
       "    }\n",
       "\n",
       "    .dataframe tbody tr th {\n",
       "        vertical-align: top;\n",
       "    }\n",
       "\n",
       "    .dataframe thead th {\n",
       "        text-align: right;\n",
       "    }\n",
       "</style>\n",
       "<table border=\"1\" class=\"dataframe\">\n",
       "  <thead>\n",
       "    <tr style=\"text-align: right;\">\n",
       "      <th></th>\n",
       "      <th>App Names</th>\n",
       "      <th>Permissions</th>\n",
       "      <th>API Name</th>\n",
       "      <th>Website Name</th>\n",
       "      <th>IP</th>\n",
       "      <th>Location</th>\n",
       "      <th>Label</th>\n",
       "      <th>Request Type</th>\n",
       "      <th>Response Code</th>\n",
       "      <th>Attack Type</th>\n",
       "      <th>Payload Size (KB)</th>\n",
       "    </tr>\n",
       "  </thead>\n",
       "  <tbody>\n",
       "    <tr>\n",
       "      <th>0</th>\n",
       "      <td>Navaratri Navarang</td>\n",
       "      <td>REQUEST_INSTALL_PACKAGES,SET_ALARM,SET_WALLPAPER</td>\n",
       "      <td>Not Sensitive</td>\n",
       "      <td>http://www.grellin.ca</td>\n",
       "      <td>123.130.169.7</td>\n",
       "      <td>Jamaica</td>\n",
       "      <td>No</td>\n",
       "      <td>DELETE</td>\n",
       "      <td>400</td>\n",
       "      <td>CSRF</td>\n",
       "      <td>353</td>\n",
       "    </tr>\n",
       "    <tr>\n",
       "      <th>1</th>\n",
       "      <td>Chinese Ancient Music</td>\n",
       "      <td>WRITE_SYNC_SETTINGS,READ_CALENDAR,WRITE_CALEND...</td>\n",
       "      <td>getAuthToken</td>\n",
       "      <td>http://www.turmir.org/</td>\n",
       "      <td>217.17.240.0</td>\n",
       "      <td>Kenya</td>\n",
       "      <td>Yes</td>\n",
       "      <td>DELETE</td>\n",
       "      <td>500</td>\n",
       "      <td>Not an Attack</td>\n",
       "      <td>136</td>\n",
       "    </tr>\n",
       "    <tr>\n",
       "      <th>2</th>\n",
       "      <td>Tranquility</td>\n",
       "      <td>DISABLE_KEYGUARD,EXPAND_STATUS_BAR,GET_PACKAGE...</td>\n",
       "      <td>Not Sensitive</td>\n",
       "      <td>http://www.fircix.com/</td>\n",
       "      <td>156.240.194.38</td>\n",
       "      <td>Somalia</td>\n",
       "      <td>No</td>\n",
       "      <td>GET</td>\n",
       "      <td>401</td>\n",
       "      <td>CSRF</td>\n",
       "      <td>211</td>\n",
       "    </tr>\n",
       "    <tr>\n",
       "      <th>3</th>\n",
       "      <td>Medical Image Puzzle</td>\n",
       "      <td>ANSWER_PHONE_CALLS,READ_CALL_LOG,WRITE_CALL_LO...</td>\n",
       "      <td>getCertificate</td>\n",
       "      <td>http://www.intono.org/</td>\n",
       "      <td>12.176.37.134</td>\n",
       "      <td>Bangladesh</td>\n",
       "      <td>Yes</td>\n",
       "      <td>POST</td>\n",
       "      <td>404</td>\n",
       "      <td>XSS</td>\n",
       "      <td>47</td>\n",
       "    </tr>\n",
       "    <tr>\n",
       "      <th>4</th>\n",
       "      <td>EscapeGame N29 - Cave Escape</td>\n",
       "      <td>ACCESS_LOCATION_EXTRA_COMMANDS,ACCESS_NETWORK_...</td>\n",
       "      <td>Not Sensitive</td>\n",
       "      <td>http://www.uratax.com/</td>\n",
       "      <td>185.236.132.0</td>\n",
       "      <td>Nigeria</td>\n",
       "      <td>No</td>\n",
       "      <td>DELETE</td>\n",
       "      <td>200</td>\n",
       "      <td>DDoS</td>\n",
       "      <td>468</td>\n",
       "    </tr>\n",
       "  </tbody>\n",
       "</table>\n",
       "</div>"
      ],
      "text/plain": [
       "                      App Names  \\\n",
       "0            Navaratri Navarang   \n",
       "1         Chinese Ancient Music   \n",
       "2                   Tranquility   \n",
       "3          Medical Image Puzzle   \n",
       "4  EscapeGame N29 - Cave Escape   \n",
       "\n",
       "                                         Permissions        API Name  \\\n",
       "0   REQUEST_INSTALL_PACKAGES,SET_ALARM,SET_WALLPAPER   Not Sensitive   \n",
       "1  WRITE_SYNC_SETTINGS,READ_CALENDAR,WRITE_CALEND...    getAuthToken   \n",
       "2  DISABLE_KEYGUARD,EXPAND_STATUS_BAR,GET_PACKAGE...   Not Sensitive   \n",
       "3  ANSWER_PHONE_CALLS,READ_CALL_LOG,WRITE_CALL_LO...  getCertificate   \n",
       "4  ACCESS_LOCATION_EXTRA_COMMANDS,ACCESS_NETWORK_...   Not Sensitive   \n",
       "\n",
       "             Website Name              IP    Location Label Request Type  \\\n",
       "0   http://www.grellin.ca   123.130.169.7     Jamaica    No       DELETE   \n",
       "1  http://www.turmir.org/    217.17.240.0       Kenya   Yes       DELETE   \n",
       "2  http://www.fircix.com/  156.240.194.38     Somalia    No          GET   \n",
       "3  http://www.intono.org/   12.176.37.134  Bangladesh   Yes         POST   \n",
       "4  http://www.uratax.com/   185.236.132.0     Nigeria    No       DELETE   \n",
       "\n",
       "   Response Code    Attack Type  Payload Size (KB)  \n",
       "0            400           CSRF                353  \n",
       "1            500  Not an Attack                136  \n",
       "2            401           CSRF                211  \n",
       "3            404            XSS                 47  \n",
       "4            200           DDoS                468  "
      ]
     },
     "execution_count": 7,
     "metadata": {},
     "output_type": "execute_result"
    }
   ],
   "source": [
    "df.head()"
   ]
  },
  {
   "cell_type": "code",
   "execution_count": 8,
   "metadata": {
    "id": "GKsYm6xksRdB"
   },
   "outputs": [],
   "source": [
    "df=df.drop(columns=[\"IP\",\"Payload Size (KB)\"])\n"
   ]
  },
  {
   "cell_type": "code",
   "execution_count": 9,
   "metadata": {
    "colab": {
     "base_uri": "https://localhost:8080/",
     "height": 617
    },
    "id": "X8duZh_VufE2",
    "outputId": "fdf2839c-96af-4b3a-f5ab-a372cfc30608"
   },
   "outputs": [
    {
     "data": {
      "text/html": [
       "<div>\n",
       "<style scoped>\n",
       "    .dataframe tbody tr th:only-of-type {\n",
       "        vertical-align: middle;\n",
       "    }\n",
       "\n",
       "    .dataframe tbody tr th {\n",
       "        vertical-align: top;\n",
       "    }\n",
       "\n",
       "    .dataframe thead th {\n",
       "        text-align: right;\n",
       "    }\n",
       "</style>\n",
       "<table border=\"1\" class=\"dataframe\">\n",
       "  <thead>\n",
       "    <tr style=\"text-align: right;\">\n",
       "      <th></th>\n",
       "      <th>App Names</th>\n",
       "      <th>Permissions</th>\n",
       "      <th>API Name</th>\n",
       "      <th>Website Name</th>\n",
       "      <th>Location</th>\n",
       "      <th>Label</th>\n",
       "      <th>Request Type</th>\n",
       "      <th>Response Code</th>\n",
       "      <th>Attack Type</th>\n",
       "    </tr>\n",
       "  </thead>\n",
       "  <tbody>\n",
       "    <tr>\n",
       "      <th>0</th>\n",
       "      <td>Navaratri Navarang</td>\n",
       "      <td>REQUEST_INSTALL_PACKAGES,SET_ALARM,SET_WALLPAPER</td>\n",
       "      <td>Not Sensitive</td>\n",
       "      <td>http://www.grellin.ca</td>\n",
       "      <td>Jamaica</td>\n",
       "      <td>No</td>\n",
       "      <td>DELETE</td>\n",
       "      <td>400</td>\n",
       "      <td>CSRF</td>\n",
       "    </tr>\n",
       "    <tr>\n",
       "      <th>1</th>\n",
       "      <td>Chinese Ancient Music</td>\n",
       "      <td>WRITE_SYNC_SETTINGS,READ_CALENDAR,WRITE_CALEND...</td>\n",
       "      <td>getAuthToken</td>\n",
       "      <td>http://www.turmir.org/</td>\n",
       "      <td>Kenya</td>\n",
       "      <td>Yes</td>\n",
       "      <td>DELETE</td>\n",
       "      <td>500</td>\n",
       "      <td>Not an Attack</td>\n",
       "    </tr>\n",
       "    <tr>\n",
       "      <th>2</th>\n",
       "      <td>Tranquility</td>\n",
       "      <td>DISABLE_KEYGUARD,EXPAND_STATUS_BAR,GET_PACKAGE...</td>\n",
       "      <td>Not Sensitive</td>\n",
       "      <td>http://www.fircix.com/</td>\n",
       "      <td>Somalia</td>\n",
       "      <td>No</td>\n",
       "      <td>GET</td>\n",
       "      <td>401</td>\n",
       "      <td>CSRF</td>\n",
       "    </tr>\n",
       "    <tr>\n",
       "      <th>3</th>\n",
       "      <td>Medical Image Puzzle</td>\n",
       "      <td>ANSWER_PHONE_CALLS,READ_CALL_LOG,WRITE_CALL_LO...</td>\n",
       "      <td>getCertificate</td>\n",
       "      <td>http://www.intono.org/</td>\n",
       "      <td>Bangladesh</td>\n",
       "      <td>Yes</td>\n",
       "      <td>POST</td>\n",
       "      <td>404</td>\n",
       "      <td>XSS</td>\n",
       "    </tr>\n",
       "    <tr>\n",
       "      <th>4</th>\n",
       "      <td>EscapeGame N29 - Cave Escape</td>\n",
       "      <td>ACCESS_LOCATION_EXTRA_COMMANDS,ACCESS_NETWORK_...</td>\n",
       "      <td>Not Sensitive</td>\n",
       "      <td>http://www.uratax.com/</td>\n",
       "      <td>Nigeria</td>\n",
       "      <td>No</td>\n",
       "      <td>DELETE</td>\n",
       "      <td>200</td>\n",
       "      <td>DDoS</td>\n",
       "    </tr>\n",
       "    <tr>\n",
       "      <th>...</th>\n",
       "      <td>...</td>\n",
       "      <td>...</td>\n",
       "      <td>...</td>\n",
       "      <td>...</td>\n",
       "      <td>...</td>\n",
       "      <td>...</td>\n",
       "      <td>...</td>\n",
       "      <td>...</td>\n",
       "      <td>...</td>\n",
       "    </tr>\n",
       "    <tr>\n",
       "      <th>19995</th>\n",
       "      <td>Spanisch Deutsch Wörterbuch</td>\n",
       "      <td>ACCESS_LOCATION_EXTRA_COMMANDS,ACCESS_NETWORK_...</td>\n",
       "      <td>Not Sensitive</td>\n",
       "      <td>http://www.ghelio.com/</td>\n",
       "      <td>Malawi</td>\n",
       "      <td>No</td>\n",
       "      <td>DELETE</td>\n",
       "      <td>200</td>\n",
       "      <td>CSRF</td>\n",
       "    </tr>\n",
       "    <tr>\n",
       "      <th>19996</th>\n",
       "      <td>ShotSynth</td>\n",
       "      <td>RECEIVE_BOOT_COMPLETED,REORDER_TASKS,REQUEST_C...</td>\n",
       "      <td>getParams</td>\n",
       "      <td>http://www.adoorig.ca</td>\n",
       "      <td>Egypt</td>\n",
       "      <td>Yes</td>\n",
       "      <td>GET</td>\n",
       "      <td>403</td>\n",
       "      <td>XSS</td>\n",
       "    </tr>\n",
       "    <tr>\n",
       "      <th>19997</th>\n",
       "      <td>ArmAware</td>\n",
       "      <td>REQUEST_INSTALL_PACKAGES,SET_ALARM,SET_WALLPAPER</td>\n",
       "      <td>getAuthToken</td>\n",
       "      <td>http://www.mapeem.org/</td>\n",
       "      <td>Djibouti</td>\n",
       "      <td>Yes</td>\n",
       "      <td>PUT</td>\n",
       "      <td>404</td>\n",
       "      <td>DDoS</td>\n",
       "    </tr>\n",
       "    <tr>\n",
       "      <th>19998</th>\n",
       "      <td>Switcher Game</td>\n",
       "      <td>KILL_BACKGROUND_PROCESSES,MANAGE_OWN_CALLS,MOD...</td>\n",
       "      <td>sendMultipartTextMessage</td>\n",
       "      <td>http://www.pacuppral.net/</td>\n",
       "      <td>Fiji</td>\n",
       "      <td>Yes</td>\n",
       "      <td>GET</td>\n",
       "      <td>301</td>\n",
       "      <td>Not an Attack</td>\n",
       "    </tr>\n",
       "    <tr>\n",
       "      <th>19999</th>\n",
       "      <td>TaxiLike</td>\n",
       "      <td>BLUETOOTH,BLUETOOTH_ADMIN,BROADCAST_STICKY,CHA...</td>\n",
       "      <td>getPassword</td>\n",
       "      <td>http://www.urdoree.ca</td>\n",
       "      <td>Iraq</td>\n",
       "      <td>Yes</td>\n",
       "      <td>GET</td>\n",
       "      <td>500</td>\n",
       "      <td>CSRF</td>\n",
       "    </tr>\n",
       "  </tbody>\n",
       "</table>\n",
       "<p>20000 rows × 9 columns</p>\n",
       "</div>"
      ],
      "text/plain": [
       "                          App Names  \\\n",
       "0                Navaratri Navarang   \n",
       "1             Chinese Ancient Music   \n",
       "2                       Tranquility   \n",
       "3              Medical Image Puzzle   \n",
       "4      EscapeGame N29 - Cave Escape   \n",
       "...                             ...   \n",
       "19995   Spanisch Deutsch Wörterbuch   \n",
       "19996                     ShotSynth   \n",
       "19997                      ArmAware   \n",
       "19998                 Switcher Game   \n",
       "19999                      TaxiLike   \n",
       "\n",
       "                                             Permissions  \\\n",
       "0       REQUEST_INSTALL_PACKAGES,SET_ALARM,SET_WALLPAPER   \n",
       "1      WRITE_SYNC_SETTINGS,READ_CALENDAR,WRITE_CALEND...   \n",
       "2      DISABLE_KEYGUARD,EXPAND_STATUS_BAR,GET_PACKAGE...   \n",
       "3      ANSWER_PHONE_CALLS,READ_CALL_LOG,WRITE_CALL_LO...   \n",
       "4      ACCESS_LOCATION_EXTRA_COMMANDS,ACCESS_NETWORK_...   \n",
       "...                                                  ...   \n",
       "19995  ACCESS_LOCATION_EXTRA_COMMANDS,ACCESS_NETWORK_...   \n",
       "19996  RECEIVE_BOOT_COMPLETED,REORDER_TASKS,REQUEST_C...   \n",
       "19997   REQUEST_INSTALL_PACKAGES,SET_ALARM,SET_WALLPAPER   \n",
       "19998  KILL_BACKGROUND_PROCESSES,MANAGE_OWN_CALLS,MOD...   \n",
       "19999  BLUETOOTH,BLUETOOTH_ADMIN,BROADCAST_STICKY,CHA...   \n",
       "\n",
       "                       API Name               Website Name    Location Label  \\\n",
       "0                 Not Sensitive      http://www.grellin.ca     Jamaica    No   \n",
       "1                  getAuthToken     http://www.turmir.org/       Kenya   Yes   \n",
       "2                 Not Sensitive     http://www.fircix.com/     Somalia    No   \n",
       "3                getCertificate     http://www.intono.org/  Bangladesh   Yes   \n",
       "4                 Not Sensitive     http://www.uratax.com/     Nigeria    No   \n",
       "...                         ...                        ...         ...   ...   \n",
       "19995             Not Sensitive     http://www.ghelio.com/      Malawi    No   \n",
       "19996                 getParams      http://www.adoorig.ca       Egypt   Yes   \n",
       "19997              getAuthToken     http://www.mapeem.org/    Djibouti   Yes   \n",
       "19998  sendMultipartTextMessage  http://www.pacuppral.net/        Fiji   Yes   \n",
       "19999               getPassword      http://www.urdoree.ca        Iraq   Yes   \n",
       "\n",
       "      Request Type  Response Code    Attack Type  \n",
       "0           DELETE            400           CSRF  \n",
       "1           DELETE            500  Not an Attack  \n",
       "2              GET            401           CSRF  \n",
       "3             POST            404            XSS  \n",
       "4           DELETE            200           DDoS  \n",
       "...            ...            ...            ...  \n",
       "19995       DELETE            200           CSRF  \n",
       "19996          GET            403            XSS  \n",
       "19997          PUT            404           DDoS  \n",
       "19998          GET            301  Not an Attack  \n",
       "19999          GET            500           CSRF  \n",
       "\n",
       "[20000 rows x 9 columns]"
      ]
     },
     "execution_count": 9,
     "metadata": {},
     "output_type": "execute_result"
    }
   ],
   "source": [
    "df"
   ]
  },
  {
   "cell_type": "code",
   "execution_count": 10,
   "metadata": {
    "colab": {
     "base_uri": "https://localhost:8080/",
     "height": 178
    },
    "id": "uuaDftVR8G5k",
    "outputId": "fc5ea699-157d-4d94-bd6a-6ab719827dbb"
   },
   "outputs": [
    {
     "data": {
      "text/plain": [
       "Label\n",
       "Yes    10068\n",
       "No      9932\n",
       "Name: count, dtype: int64"
      ]
     },
     "execution_count": 10,
     "metadata": {},
     "output_type": "execute_result"
    }
   ],
   "source": [
    "\n",
    "count=df['Label'].value_counts()\n",
    "count"
   ]
  },
  {
   "cell_type": "code",
   "execution_count": 71,
   "metadata": {},
   "outputs": [
    {
     "data": {
      "image/png": "[encoded data removed]",
      "text/plain": [
       "<Figure size 500x500 with 1 Axes>"
      ]
     },
     "metadata": {},
     "output_type": "display_data"
    }
   ],
   "source": [
    "import matplotlib.pyplot as plt\n",
    "\n",
    "# Count the occurrences of each label\n",
    "count = df[\"Label\"].value_counts()\n",
    "\n",
    "# Create pie chart\n",
    "plt.figure(figsize=(5,5))\n",
    "plt.pie(count, labels=count.index, autopct=lambda p: f'{int(p * sum(count) / 100)}',  \n",
    "        colors=[\"skyblue\", \"salmon\", \"lightgreen\", \"gold\"], startangle=140, wedgeprops={'edgecolor': 'black'})\n",
    "\n",
    "# Title\n",
    "plt.title(\"Label Distribution\", fontsize=14)\n",
    "\n",
    "# Show plot\n",
    "plt.show()\n"
   ]
  },
  {
   "cell_type": "code",
   "execution_count": 12,
   "metadata": {
    "colab": {
     "base_uri": "https://localhost:8080/",
     "height": 272
    },
    "id": "tcnmWNgcI3fF",
    "outputId": "c3f439ea-6566-4d80-8444-2b488608ca7a"
   },
   "outputs": [
    {
     "data": {
      "text/plain": [
       "Attack Type\n",
       "Not an Attack    4108\n",
       "DDoS             4053\n",
       "XSS              3957\n",
       "SQL Injection    3949\n",
       "CSRF             3933\n",
       "Name: count, dtype: int64"
      ]
     },
     "execution_count": 12,
     "metadata": {},
     "output_type": "execute_result"
    }
   ],
   "source": [
    "df['Attack Type'].value_counts()\n"
   ]
  },
  {
   "cell_type": "code",
   "execution_count": 13,
   "metadata": {
    "colab": {
     "base_uri": "https://localhost:8080/",
     "height": 575
    },
    "id": "9JulEO6M8kgG",
    "outputId": "d8700903-f875-4192-d3a2-54e658d9403f"
   },
   "outputs": [
    {
     "data": {
      "text/plain": [
       "<function matplotlib.pyplot.show(close=None, block=None)>"
      ]
     },
     "execution_count": 13,
     "metadata": {},
     "output_type": "execute_result"
    },
    {
     "data": {
      "image/png": "[encoded data removed]",
      "text/plain": [
       "<Figure size 640x480 with 1 Axes>"
      ]
     },
     "metadata": {},
     "output_type": "display_data"
    }
   ],
   "source": [
    "plt.pie(df[\"Attack Type\"].value_counts(),labels=df[\"Attack Type\"].value_counts().index,autopct=\"%1.1f%%\")\n",
    "plt.show"
   ]
  },
  {
   "cell_type": "code",
   "execution_count": 14,
   "metadata": {
    "colab": {
     "base_uri": "https://localhost:8080/",
     "height": 489
    },
    "id": "rtyHYfWrbwpk",
    "outputId": "2a7d5564-2f3d-4554-be35-74c9ceed9753"
   },
   "outputs": [
    {
     "data": {
      "text/plain": [
       "Location\n",
       "United States          1302\n",
       "USA - Florida           643\n",
       "Azerbaijan              585\n",
       "Brazil                  236\n",
       "Japan                   207\n",
       "                       ... \n",
       "Kyrgyz                   39\n",
       "Kyrgyz                   36\n",
       "Switzerland              36\n",
       "Turks                    35\n",
       "Virgin Islands (UK)      34\n",
       "Name: Attack Type, Length: 163, dtype: int64"
      ]
     },
     "execution_count": 14,
     "metadata": {},
     "output_type": "execute_result"
    }
   ],
   "source": [
    "#most attacked location\n",
    "df.groupby(\"Location\")[\"Attack Type\"].count().sort_values(ascending=False)\n"
   ]
  },
  {
   "cell_type": "code",
   "execution_count": 15,
   "metadata": {},
   "outputs": [
    {
     "data": {
      "image/png": "[encoded data removed]",
      "text/plain": [
       "<Figure size 1200x600 with 1 Axes>"
      ]
     },
     "metadata": {},
     "output_type": "display_data"
    }
   ],
   "source": [
    "import matplotlib.pyplot as plt\n",
    "\n",
    "# Get top 10 most attacked locations\n",
    "top_locations = df.groupby(\"Location\")[\"Attack Type\"].count().sort_values(ascending=False).head(10)\n",
    "\n",
    "# Create figure\n",
    "plt.figure(figsize=(12,6))\n",
    "ax = top_locations.plot(kind=\"bar\", color=\"salmon\")\n",
    "\n",
    "# Labels and title\n",
    "plt.xlabel(\"Location\")\n",
    "plt.ylabel(\"Number of Attacks\")\n",
    "plt.title(\"Top 10 Most Attacked Locations\")\n",
    "plt.xticks(rotation=45)  \n",
    "plt.grid(axis=\"y\", linestyle=\"--\", alpha=0.7)\n",
    "\n",
    "# Add value labels on top of bars\n",
    "for bar in ax.patches:\n",
    "    ax.annotate(f\"{bar.get_height()}\",  \n",
    "                (bar.get_x() + bar.get_width() / 2, bar.get_height()),  \n",
    "                ha='center', va='bottom', fontsize=10, fontweight='bold', color='black')\n",
    "\n",
    "plt.show()\n"
   ]
  },
  {
   "cell_type": "code",
   "execution_count": 16,
   "metadata": {
    "colab": {
     "base_uri": "https://localhost:8080/",
     "height": 600
    },
    "id": "9QnIAtUA7EHw",
    "outputId": "35443f28-477b-4b1b-a97d-c26b53303d77",
    "scrolled": true
   },
   "outputs": [
    {
     "data": {
      "image/png": "[encoded data removed]",
      "text/plain": [
       "<Figure size 1000x600 with 1 Axes>"
      ]
     },
     "metadata": {},
     "output_type": "display_data"
    }
   ],
   "source": [
    "# Filter for attacks in the United States\n",
    "us_attacks = df[df[\"Location\"] == \"United States\"]\n",
    "\n",
    "# Count attacks by attack type\n",
    "attack_counts = us_attacks[\"Attack Type\"].value_counts()\n",
    "\n",
    "# Set figure size\n",
    "plt.figure(figsize=(10,6))\n",
    "sns.set_style(\"darkgrid\")\n",
    "\n",
    "# Create bar plot\n",
    "ax = sns.barplot(x=attack_counts.index, y=attack_counts.values, palette=[\"red\",\"blue\",\"yellow\",\"black\",\"green\"])\n",
    "\n",
    "# Add value labels on top of bars\n",
    "for bar in ax.containers:\n",
    "    ax.bar_label(bar, fmt='%d', label_type=\"edge\", fontsize=10, fontweight=\"bold\")\n",
    "\n",
    "# Labels and title\n",
    "plt.title(\"Attack Type in the United States\", fontsize=14)\n",
    "plt.xlabel(\"Attack Type\", fontsize=12)\n",
    "plt.ylabel(\"Count\", fontsize=12)\n",
    "plt.xticks(rotation=45)  # Rotate labels for better readability\n",
    "\n",
    "# Show plot\n",
    "plt.show()"
   ]
  },
  {
   "cell_type": "code",
   "execution_count": null,
   "metadata": {
    "colab": {
     "base_uri": "https://localhost:8080/"
    },
    "id": "3Lm01BcnOIbI",
    "outputId": "3713a33b-ef2b-48f4-a0ba-47f85eb69c3d"
   },
   "outputs": [],
   "source": []
  },
  {
   "cell_type": "code",
   "execution_count": 17,
   "metadata": {
    "colab": {
     "base_uri": "https://localhost:8080/",
     "height": 366
    },
    "id": "4vbf7FG1A4IH",
    "outputId": "061bb6d6-c0b7-4470-a9a9-c7687884bb19"
   },
   "outputs": [
    {
     "data": {
      "text/plain": [
       "App Names        object\n",
       "Permissions      object\n",
       "API Name         object\n",
       "Website Name     object\n",
       "Location         object\n",
       "Label            object\n",
       "Request Type     object\n",
       "Response Code     int64\n",
       "Attack Type      object\n",
       "dtype: object"
      ]
     },
     "execution_count": 17,
     "metadata": {},
     "output_type": "execute_result"
    }
   ],
   "source": [
    "df.dtypes"
   ]
  },
  {
   "cell_type": "code",
   "execution_count": 18,
   "metadata": {
    "colab": {
     "base_uri": "https://localhost:8080/"
    },
    "id": "yDICdBaZpHQZ",
    "outputId": "cadc1630-ab5f-408f-a864-d7f984aeef74"
   },
   "outputs": [
    {
     "data": {
      "text/plain": [
       "2744"
      ]
     },
     "execution_count": 18,
     "metadata": {},
     "output_type": "execute_result"
    }
   ],
   "source": [
    "df.duplicated().sum()"
   ]
  },
  {
   "cell_type": "code",
   "execution_count": 19,
   "metadata": {
    "id": "QYgzLEb8pRCn"
   },
   "outputs": [],
   "source": [
    "df=df.drop_duplicates()"
   ]
  },
  {
   "cell_type": "code",
   "execution_count": 20,
   "metadata": {
    "colab": {
     "base_uri": "https://localhost:8080/"
    },
    "id": "pmU4MCDdpbQg",
    "outputId": "474a3d7b-0024-40d2-8ecd-e8dfd8e0e667"
   },
   "outputs": [
    {
     "data": {
      "text/plain": [
       "0"
      ]
     },
     "execution_count": 20,
     "metadata": {},
     "output_type": "execute_result"
    }
   ],
   "source": [
    "df.duplicated().sum()"
   ]
  },
  {
   "cell_type": "markdown",
   "metadata": {
    "id": "9GUY8ZRgun87"
   },
   "source": [
    "outlayer"
   ]
  },
  {
   "cell_type": "code",
   "execution_count": 21,
   "metadata": {
    "id": "AtRj2FXetcql"
   },
   "outputs": [],
   "source": [
    "num_cols = df.select_dtypes(include=\"number\").columns"
   ]
  },
  {
   "cell_type": "code",
   "execution_count": 22,
   "metadata": {
    "colab": {
     "base_uri": "https://localhost:8080/"
    },
    "id": "Ut6BDx8CtpUo",
    "outputId": "4ef502be-21c5-48bd-d880-f652468de383"
   },
   "outputs": [
    {
     "data": {
      "text/plain": [
       "Index(['Response Code'], dtype='object')"
      ]
     },
     "execution_count": 22,
     "metadata": {},
     "output_type": "execute_result"
    }
   ],
   "source": [
    "num_cols"
   ]
  },
  {
   "cell_type": "code",
   "execution_count": 23,
   "metadata": {
    "colab": {
     "base_uri": "https://localhost:8080/",
     "height": 424
    },
    "id": "XfJ5bCbb5s3V",
    "outputId": "9be0af82-6095-456a-b4eb-b479d669a3c2"
   },
   "outputs": [
    {
     "data": {
      "text/plain": [
       "<Axes: ylabel='Response Code'>"
      ]
     },
     "execution_count": 23,
     "metadata": {},
     "output_type": "execute_result"
    },
    {
     "data": {
      "image/png": "[encoded data removed]",
      "text/plain": [
       "<Figure size 640x480 with 1 Axes>"
      ]
     },
     "metadata": {},
     "output_type": "display_data"
    }
   ],
   "source": [
    "sns.boxplot(df[\"Response Code\"])\n",
    "\n"
   ]
  },
  {
   "cell_type": "code",
   "execution_count": 24,
   "metadata": {
    "colab": {
     "base_uri": "https://localhost:8080/",
     "height": 366
    },
    "id": "j43lvle5vpiV",
    "outputId": "e12e9c26-fe40-4ba8-9511-325d131c8464"
   },
   "outputs": [
    {
     "data": {
      "text/plain": [
       "App Names          0\n",
       "Permissions        0\n",
       "API Name           0\n",
       "Website Name       0\n",
       "Location         200\n",
       "Label              0\n",
       "Request Type       0\n",
       "Response Code      0\n",
       "Attack Type        0\n",
       "dtype: int64"
      ]
     },
     "execution_count": 24,
     "metadata": {},
     "output_type": "execute_result"
    }
   ],
   "source": [
    "\n",
    "#check Null\n",
    "df.isnull().sum()"
   ]
  },
  {
   "cell_type": "code",
   "execution_count": null,
   "metadata": {
    "colab": {
     "base_uri": "https://localhost:8080/"
    },
    "id": "ZRFU8r69_pP2",
    "outputId": "703ceddc-f83d-4d57-bb32-1f30061e1035"
   },
   "outputs": [],
   "source": []
  },
  {
   "cell_type": "code",
   "execution_count": 25,
   "metadata": {
    "id": "OCqBnONP5w6O"
   },
   "outputs": [],
   "source": [
    "df[\"Location\"]=df[\"Location\"].fillna(method=\"ffill\")"
   ]
  },
  {
   "cell_type": "code",
   "execution_count": null,
   "metadata": {
    "id": "alca9BOMykwm"
   },
   "outputs": [],
   "source": []
  },
  {
   "cell_type": "code",
   "execution_count": 26,
   "metadata": {
    "colab": {
     "base_uri": "https://localhost:8080/",
     "height": 366
    },
    "id": "jPmyk9WCtyMM",
    "outputId": "beda8c52-f939-4242-dfad-5a6b7ac45c4c"
   },
   "outputs": [
    {
     "data": {
      "text/plain": [
       "App Names        0\n",
       "Permissions      0\n",
       "API Name         0\n",
       "Website Name     0\n",
       "Location         0\n",
       "Label            0\n",
       "Request Type     0\n",
       "Response Code    0\n",
       "Attack Type      0\n",
       "dtype: int64"
      ]
     },
     "execution_count": 26,
     "metadata": {},
     "output_type": "execute_result"
    }
   ],
   "source": [
    "df.isnull().sum()"
   ]
  },
  {
   "cell_type": "code",
   "execution_count": 27,
   "metadata": {
    "id": "jjPTHmyRynDf"
   },
   "outputs": [],
   "source": [
    "df[\"Location\"]=df[\"Location\"].fillna(method=\"ffill\")"
   ]
  },
  {
   "cell_type": "code",
   "execution_count": 28,
   "metadata": {
    "id": "59R487nD4tyT"
   },
   "outputs": [],
   "source": [
    "df[\"Attack Type\"]=df[\"Attack Type\"].fillna(method=\"ffill\")"
   ]
  },
  {
   "cell_type": "code",
   "execution_count": null,
   "metadata": {
    "id": "v7I39o3uuHjD"
   },
   "outputs": [],
   "source": []
  },
  {
   "cell_type": "code",
   "execution_count": 29,
   "metadata": {
    "colab": {
     "base_uri": "https://localhost:8080/",
     "height": 366
    },
    "id": "aUpxvWaK5vuz",
    "outputId": "6162520e-5b75-433d-a4bd-b8f94c105ecc"
   },
   "outputs": [
    {
     "data": {
      "text/plain": [
       "App Names        0\n",
       "Permissions      0\n",
       "API Name         0\n",
       "Website Name     0\n",
       "Location         0\n",
       "Label            0\n",
       "Request Type     0\n",
       "Response Code    0\n",
       "Attack Type      0\n",
       "dtype: int64"
      ]
     },
     "execution_count": 29,
     "metadata": {},
     "output_type": "execute_result"
    }
   ],
   "source": [
    "df.isnull().sum()"
   ]
  },
  {
   "cell_type": "code",
   "execution_count": 30,
   "metadata": {
    "colab": {
     "base_uri": "https://localhost:8080/",
     "height": 634
    },
    "id": "9xISYKJlyAWk",
    "outputId": "30079b37-bc3c-4b34-faaa-f3e6c801e764"
   },
   "outputs": [
    {
     "data": {
      "text/html": [
       "<div>\n",
       "<style scoped>\n",
       "    .dataframe tbody tr th:only-of-type {\n",
       "        vertical-align: middle;\n",
       "    }\n",
       "\n",
       "    .dataframe tbody tr th {\n",
       "        vertical-align: top;\n",
       "    }\n",
       "\n",
       "    .dataframe thead th {\n",
       "        text-align: right;\n",
       "    }\n",
       "</style>\n",
       "<table border=\"1\" class=\"dataframe\">\n",
       "  <thead>\n",
       "    <tr style=\"text-align: right;\">\n",
       "      <th></th>\n",
       "      <th>App Names</th>\n",
       "      <th>Permissions</th>\n",
       "      <th>API Name</th>\n",
       "      <th>Website Name</th>\n",
       "      <th>Location</th>\n",
       "      <th>Label</th>\n",
       "      <th>Request Type</th>\n",
       "      <th>Response Code</th>\n",
       "      <th>Attack Type</th>\n",
       "    </tr>\n",
       "  </thead>\n",
       "  <tbody>\n",
       "    <tr>\n",
       "      <th>0</th>\n",
       "      <td>Navaratri Navarang</td>\n",
       "      <td>REQUEST_INSTALL_PACKAGES,SET_ALARM,SET_WALLPAPER</td>\n",
       "      <td>Not Sensitive</td>\n",
       "      <td>http://www.grellin.ca</td>\n",
       "      <td>Jamaica</td>\n",
       "      <td>No</td>\n",
       "      <td>DELETE</td>\n",
       "      <td>400</td>\n",
       "      <td>CSRF</td>\n",
       "    </tr>\n",
       "    <tr>\n",
       "      <th>1</th>\n",
       "      <td>Chinese Ancient Music</td>\n",
       "      <td>WRITE_SYNC_SETTINGS,READ_CALENDAR,WRITE_CALEND...</td>\n",
       "      <td>getAuthToken</td>\n",
       "      <td>http://www.turmir.org/</td>\n",
       "      <td>Kenya</td>\n",
       "      <td>Yes</td>\n",
       "      <td>DELETE</td>\n",
       "      <td>500</td>\n",
       "      <td>Not an Attack</td>\n",
       "    </tr>\n",
       "    <tr>\n",
       "      <th>2</th>\n",
       "      <td>Tranquility</td>\n",
       "      <td>DISABLE_KEYGUARD,EXPAND_STATUS_BAR,GET_PACKAGE...</td>\n",
       "      <td>Not Sensitive</td>\n",
       "      <td>http://www.fircix.com/</td>\n",
       "      <td>Somalia</td>\n",
       "      <td>No</td>\n",
       "      <td>GET</td>\n",
       "      <td>401</td>\n",
       "      <td>CSRF</td>\n",
       "    </tr>\n",
       "    <tr>\n",
       "      <th>3</th>\n",
       "      <td>Medical Image Puzzle</td>\n",
       "      <td>ANSWER_PHONE_CALLS,READ_CALL_LOG,WRITE_CALL_LO...</td>\n",
       "      <td>getCertificate</td>\n",
       "      <td>http://www.intono.org/</td>\n",
       "      <td>Bangladesh</td>\n",
       "      <td>Yes</td>\n",
       "      <td>POST</td>\n",
       "      <td>404</td>\n",
       "      <td>XSS</td>\n",
       "    </tr>\n",
       "    <tr>\n",
       "      <th>4</th>\n",
       "      <td>EscapeGame N29 - Cave Escape</td>\n",
       "      <td>ACCESS_LOCATION_EXTRA_COMMANDS,ACCESS_NETWORK_...</td>\n",
       "      <td>Not Sensitive</td>\n",
       "      <td>http://www.uratax.com/</td>\n",
       "      <td>Nigeria</td>\n",
       "      <td>No</td>\n",
       "      <td>DELETE</td>\n",
       "      <td>200</td>\n",
       "      <td>DDoS</td>\n",
       "    </tr>\n",
       "    <tr>\n",
       "      <th>...</th>\n",
       "      <td>...</td>\n",
       "      <td>...</td>\n",
       "      <td>...</td>\n",
       "      <td>...</td>\n",
       "      <td>...</td>\n",
       "      <td>...</td>\n",
       "      <td>...</td>\n",
       "      <td>...</td>\n",
       "      <td>...</td>\n",
       "    </tr>\n",
       "    <tr>\n",
       "      <th>19994</th>\n",
       "      <td>Eureka! Quiz Game</td>\n",
       "      <td>ACCESS_LOCATION_EXTRA_COMMANDS,ACCESS_NETWORK_...</td>\n",
       "      <td>Not Sensitive</td>\n",
       "      <td>http://www.ceitalt.ca</td>\n",
       "      <td>United States</td>\n",
       "      <td>No</td>\n",
       "      <td>PUT</td>\n",
       "      <td>200</td>\n",
       "      <td>SQL Injection</td>\n",
       "    </tr>\n",
       "    <tr>\n",
       "      <th>19995</th>\n",
       "      <td>Spanisch Deutsch Wörterbuch</td>\n",
       "      <td>ACCESS_LOCATION_EXTRA_COMMANDS,ACCESS_NETWORK_...</td>\n",
       "      <td>Not Sensitive</td>\n",
       "      <td>http://www.ghelio.com/</td>\n",
       "      <td>Malawi</td>\n",
       "      <td>No</td>\n",
       "      <td>DELETE</td>\n",
       "      <td>200</td>\n",
       "      <td>CSRF</td>\n",
       "    </tr>\n",
       "    <tr>\n",
       "      <th>19996</th>\n",
       "      <td>ShotSynth</td>\n",
       "      <td>RECEIVE_BOOT_COMPLETED,REORDER_TASKS,REQUEST_C...</td>\n",
       "      <td>getParams</td>\n",
       "      <td>http://www.adoorig.ca</td>\n",
       "      <td>Egypt</td>\n",
       "      <td>Yes</td>\n",
       "      <td>GET</td>\n",
       "      <td>403</td>\n",
       "      <td>XSS</td>\n",
       "    </tr>\n",
       "    <tr>\n",
       "      <th>19998</th>\n",
       "      <td>Switcher Game</td>\n",
       "      <td>KILL_BACKGROUND_PROCESSES,MANAGE_OWN_CALLS,MOD...</td>\n",
       "      <td>sendMultipartTextMessage</td>\n",
       "      <td>http://www.pacuppral.net/</td>\n",
       "      <td>Fiji</td>\n",
       "      <td>Yes</td>\n",
       "      <td>GET</td>\n",
       "      <td>301</td>\n",
       "      <td>Not an Attack</td>\n",
       "    </tr>\n",
       "    <tr>\n",
       "      <th>19999</th>\n",
       "      <td>TaxiLike</td>\n",
       "      <td>BLUETOOTH,BLUETOOTH_ADMIN,BROADCAST_STICKY,CHA...</td>\n",
       "      <td>getPassword</td>\n",
       "      <td>http://www.urdoree.ca</td>\n",
       "      <td>Iraq</td>\n",
       "      <td>Yes</td>\n",
       "      <td>GET</td>\n",
       "      <td>500</td>\n",
       "      <td>CSRF</td>\n",
       "    </tr>\n",
       "  </tbody>\n",
       "</table>\n",
       "<p>17256 rows × 9 columns</p>\n",
       "</div>"
      ],
      "text/plain": [
       "                          App Names  \\\n",
       "0                Navaratri Navarang   \n",
       "1             Chinese Ancient Music   \n",
       "2                       Tranquility   \n",
       "3              Medical Image Puzzle   \n",
       "4      EscapeGame N29 - Cave Escape   \n",
       "...                             ...   \n",
       "19994             Eureka! Quiz Game   \n",
       "19995   Spanisch Deutsch Wörterbuch   \n",
       "19996                     ShotSynth   \n",
       "19998                 Switcher Game   \n",
       "19999                      TaxiLike   \n",
       "\n",
       "                                             Permissions  \\\n",
       "0       REQUEST_INSTALL_PACKAGES,SET_ALARM,SET_WALLPAPER   \n",
       "1      WRITE_SYNC_SETTINGS,READ_CALENDAR,WRITE_CALEND...   \n",
       "2      DISABLE_KEYGUARD,EXPAND_STATUS_BAR,GET_PACKAGE...   \n",
       "3      ANSWER_PHONE_CALLS,READ_CALL_LOG,WRITE_CALL_LO...   \n",
       "4      ACCESS_LOCATION_EXTRA_COMMANDS,ACCESS_NETWORK_...   \n",
       "...                                                  ...   \n",
       "19994  ACCESS_LOCATION_EXTRA_COMMANDS,ACCESS_NETWORK_...   \n",
       "19995  ACCESS_LOCATION_EXTRA_COMMANDS,ACCESS_NETWORK_...   \n",
       "19996  RECEIVE_BOOT_COMPLETED,REORDER_TASKS,REQUEST_C...   \n",
       "19998  KILL_BACKGROUND_PROCESSES,MANAGE_OWN_CALLS,MOD...   \n",
       "19999  BLUETOOTH,BLUETOOTH_ADMIN,BROADCAST_STICKY,CHA...   \n",
       "\n",
       "                       API Name               Website Name       Location  \\\n",
       "0                 Not Sensitive      http://www.grellin.ca        Jamaica   \n",
       "1                  getAuthToken     http://www.turmir.org/          Kenya   \n",
       "2                 Not Sensitive     http://www.fircix.com/        Somalia   \n",
       "3                getCertificate     http://www.intono.org/     Bangladesh   \n",
       "4                 Not Sensitive     http://www.uratax.com/        Nigeria   \n",
       "...                         ...                        ...            ...   \n",
       "19994             Not Sensitive      http://www.ceitalt.ca  United States   \n",
       "19995             Not Sensitive     http://www.ghelio.com/         Malawi   \n",
       "19996                 getParams      http://www.adoorig.ca          Egypt   \n",
       "19998  sendMultipartTextMessage  http://www.pacuppral.net/           Fiji   \n",
       "19999               getPassword      http://www.urdoree.ca           Iraq   \n",
       "\n",
       "      Label Request Type  Response Code    Attack Type  \n",
       "0        No       DELETE            400           CSRF  \n",
       "1       Yes       DELETE            500  Not an Attack  \n",
       "2        No          GET            401           CSRF  \n",
       "3       Yes         POST            404            XSS  \n",
       "4        No       DELETE            200           DDoS  \n",
       "...     ...          ...            ...            ...  \n",
       "19994    No          PUT            200  SQL Injection  \n",
       "19995    No       DELETE            200           CSRF  \n",
       "19996   Yes          GET            403            XSS  \n",
       "19998   Yes          GET            301  Not an Attack  \n",
       "19999   Yes          GET            500           CSRF  \n",
       "\n",
       "[17256 rows x 9 columns]"
      ]
     },
     "execution_count": 30,
     "metadata": {},
     "output_type": "execute_result"
    }
   ],
   "source": [
    "df"
   ]
  },
  {
   "cell_type": "code",
   "execution_count": null,
   "metadata": {
    "id": "qB4TRKTaCuDP"
   },
   "outputs": [],
   "source": []
  },
  {
   "cell_type": "code",
   "execution_count": null,
   "metadata": {
    "id": "dAtspqGdCqP8"
   },
   "outputs": [],
   "source": []
  },
  {
   "cell_type": "code",
   "execution_count": null,
   "metadata": {
    "colab": {
     "base_uri": "https://localhost:8080/",
     "height": 268
    },
    "id": "QoEOXmeVye9I",
    "outputId": "0a975515-bb37-452c-c197-5ffe4f63d0dd"
   },
   "outputs": [],
   "source": []
  },
  {
   "cell_type": "code",
   "execution_count": 31,
   "metadata": {
    "colab": {
     "base_uri": "https://localhost:8080/"
    },
    "id": "_XpasRvf5yus",
    "outputId": "731e3621-2da7-4b59-8301-0b0fa4b3ed32"
   },
   "outputs": [
    {
     "data": {
      "text/plain": [
       "Index(['App Names', 'Permissions', 'API Name', 'Website Name', 'Location',\n",
       "       'Label', 'Request Type', 'Response Code', 'Attack Type'],\n",
       "      dtype='object')"
      ]
     },
     "execution_count": 31,
     "metadata": {},
     "output_type": "execute_result"
    }
   ],
   "source": [
    "df.columns"
   ]
  },
  {
   "cell_type": "markdown",
   "metadata": {
    "id": "jIIx8KHz-P1v"
   },
   "source": [
    "**LABELENCODING**"
   ]
  },
  {
   "cell_type": "code",
   "execution_count": 32,
   "metadata": {
    "colab": {
     "base_uri": "https://localhost:8080/",
     "height": 634
    },
    "id": "-Z0xmsYOjJ9b",
    "outputId": "08af655c-c888-40b5-c726-20f3f9219236"
   },
   "outputs": [
    {
     "data": {
      "text/html": [
       "<div>\n",
       "<style scoped>\n",
       "    .dataframe tbody tr th:only-of-type {\n",
       "        vertical-align: middle;\n",
       "    }\n",
       "\n",
       "    .dataframe tbody tr th {\n",
       "        vertical-align: top;\n",
       "    }\n",
       "\n",
       "    .dataframe thead th {\n",
       "        text-align: right;\n",
       "    }\n",
       "</style>\n",
       "<table border=\"1\" class=\"dataframe\">\n",
       "  <thead>\n",
       "    <tr style=\"text-align: right;\">\n",
       "      <th></th>\n",
       "      <th>App Names</th>\n",
       "      <th>Permissions</th>\n",
       "      <th>API Name</th>\n",
       "      <th>Website Name</th>\n",
       "      <th>Location</th>\n",
       "      <th>Label</th>\n",
       "      <th>Request Type</th>\n",
       "      <th>Response Code</th>\n",
       "      <th>Attack Type</th>\n",
       "    </tr>\n",
       "  </thead>\n",
       "  <tbody>\n",
       "    <tr>\n",
       "      <th>0</th>\n",
       "      <td>Navaratri Navarang</td>\n",
       "      <td>REQUEST_INSTALL_PACKAGES,SET_ALARM,SET_WALLPAPER</td>\n",
       "      <td>Not Sensitive</td>\n",
       "      <td>http://www.grellin.ca</td>\n",
       "      <td>Jamaica</td>\n",
       "      <td>No</td>\n",
       "      <td>DELETE</td>\n",
       "      <td>400</td>\n",
       "      <td>CSRF</td>\n",
       "    </tr>\n",
       "    <tr>\n",
       "      <th>1</th>\n",
       "      <td>Chinese Ancient Music</td>\n",
       "      <td>WRITE_SYNC_SETTINGS,READ_CALENDAR,WRITE_CALEND...</td>\n",
       "      <td>getAuthToken</td>\n",
       "      <td>http://www.turmir.org/</td>\n",
       "      <td>Kenya</td>\n",
       "      <td>Yes</td>\n",
       "      <td>DELETE</td>\n",
       "      <td>500</td>\n",
       "      <td>Not an Attack</td>\n",
       "    </tr>\n",
       "    <tr>\n",
       "      <th>2</th>\n",
       "      <td>Tranquility</td>\n",
       "      <td>DISABLE_KEYGUARD,EXPAND_STATUS_BAR,GET_PACKAGE...</td>\n",
       "      <td>Not Sensitive</td>\n",
       "      <td>http://www.fircix.com/</td>\n",
       "      <td>Somalia</td>\n",
       "      <td>No</td>\n",
       "      <td>GET</td>\n",
       "      <td>401</td>\n",
       "      <td>CSRF</td>\n",
       "    </tr>\n",
       "    <tr>\n",
       "      <th>3</th>\n",
       "      <td>Medical Image Puzzle</td>\n",
       "      <td>ANSWER_PHONE_CALLS,READ_CALL_LOG,WRITE_CALL_LO...</td>\n",
       "      <td>getCertificate</td>\n",
       "      <td>http://www.intono.org/</td>\n",
       "      <td>Bangladesh</td>\n",
       "      <td>Yes</td>\n",
       "      <td>POST</td>\n",
       "      <td>404</td>\n",
       "      <td>XSS</td>\n",
       "    </tr>\n",
       "    <tr>\n",
       "      <th>4</th>\n",
       "      <td>EscapeGame N29 - Cave Escape</td>\n",
       "      <td>ACCESS_LOCATION_EXTRA_COMMANDS,ACCESS_NETWORK_...</td>\n",
       "      <td>Not Sensitive</td>\n",
       "      <td>http://www.uratax.com/</td>\n",
       "      <td>Nigeria</td>\n",
       "      <td>No</td>\n",
       "      <td>DELETE</td>\n",
       "      <td>200</td>\n",
       "      <td>DDoS</td>\n",
       "    </tr>\n",
       "    <tr>\n",
       "      <th>...</th>\n",
       "      <td>...</td>\n",
       "      <td>...</td>\n",
       "      <td>...</td>\n",
       "      <td>...</td>\n",
       "      <td>...</td>\n",
       "      <td>...</td>\n",
       "      <td>...</td>\n",
       "      <td>...</td>\n",
       "      <td>...</td>\n",
       "    </tr>\n",
       "    <tr>\n",
       "      <th>19994</th>\n",
       "      <td>Eureka! Quiz Game</td>\n",
       "      <td>ACCESS_LOCATION_EXTRA_COMMANDS,ACCESS_NETWORK_...</td>\n",
       "      <td>Not Sensitive</td>\n",
       "      <td>http://www.ceitalt.ca</td>\n",
       "      <td>United States</td>\n",
       "      <td>No</td>\n",
       "      <td>PUT</td>\n",
       "      <td>200</td>\n",
       "      <td>SQL Injection</td>\n",
       "    </tr>\n",
       "    <tr>\n",
       "      <th>19995</th>\n",
       "      <td>Spanisch Deutsch Wörterbuch</td>\n",
       "      <td>ACCESS_LOCATION_EXTRA_COMMANDS,ACCESS_NETWORK_...</td>\n",
       "      <td>Not Sensitive</td>\n",
       "      <td>http://www.ghelio.com/</td>\n",
       "      <td>Malawi</td>\n",
       "      <td>No</td>\n",
       "      <td>DELETE</td>\n",
       "      <td>200</td>\n",
       "      <td>CSRF</td>\n",
       "    </tr>\n",
       "    <tr>\n",
       "      <th>19996</th>\n",
       "      <td>ShotSynth</td>\n",
       "      <td>RECEIVE_BOOT_COMPLETED,REORDER_TASKS,REQUEST_C...</td>\n",
       "      <td>getParams</td>\n",
       "      <td>http://www.adoorig.ca</td>\n",
       "      <td>Egypt</td>\n",
       "      <td>Yes</td>\n",
       "      <td>GET</td>\n",
       "      <td>403</td>\n",
       "      <td>XSS</td>\n",
       "    </tr>\n",
       "    <tr>\n",
       "      <th>19998</th>\n",
       "      <td>Switcher Game</td>\n",
       "      <td>KILL_BACKGROUND_PROCESSES,MANAGE_OWN_CALLS,MOD...</td>\n",
       "      <td>sendMultipartTextMessage</td>\n",
       "      <td>http://www.pacuppral.net/</td>\n",
       "      <td>Fiji</td>\n",
       "      <td>Yes</td>\n",
       "      <td>GET</td>\n",
       "      <td>301</td>\n",
       "      <td>Not an Attack</td>\n",
       "    </tr>\n",
       "    <tr>\n",
       "      <th>19999</th>\n",
       "      <td>TaxiLike</td>\n",
       "      <td>BLUETOOTH,BLUETOOTH_ADMIN,BROADCAST_STICKY,CHA...</td>\n",
       "      <td>getPassword</td>\n",
       "      <td>http://www.urdoree.ca</td>\n",
       "      <td>Iraq</td>\n",
       "      <td>Yes</td>\n",
       "      <td>GET</td>\n",
       "      <td>500</td>\n",
       "      <td>CSRF</td>\n",
       "    </tr>\n",
       "  </tbody>\n",
       "</table>\n",
       "<p>17256 rows × 9 columns</p>\n",
       "</div>"
      ],
      "text/plain": [
       "                          App Names  \\\n",
       "0                Navaratri Navarang   \n",
       "1             Chinese Ancient Music   \n",
       "2                       Tranquility   \n",
       "3              Medical Image Puzzle   \n",
       "4      EscapeGame N29 - Cave Escape   \n",
       "...                             ...   \n",
       "19994             Eureka! Quiz Game   \n",
       "19995   Spanisch Deutsch Wörterbuch   \n",
       "19996                     ShotSynth   \n",
       "19998                 Switcher Game   \n",
       "19999                      TaxiLike   \n",
       "\n",
       "                                             Permissions  \\\n",
       "0       REQUEST_INSTALL_PACKAGES,SET_ALARM,SET_WALLPAPER   \n",
       "1      WRITE_SYNC_SETTINGS,READ_CALENDAR,WRITE_CALEND...   \n",
       "2      DISABLE_KEYGUARD,EXPAND_STATUS_BAR,GET_PACKAGE...   \n",
       "3      ANSWER_PHONE_CALLS,READ_CALL_LOG,WRITE_CALL_LO...   \n",
       "4      ACCESS_LOCATION_EXTRA_COMMANDS,ACCESS_NETWORK_...   \n",
       "...                                                  ...   \n",
       "19994  ACCESS_LOCATION_EXTRA_COMMANDS,ACCESS_NETWORK_...   \n",
       "19995  ACCESS_LOCATION_EXTRA_COMMANDS,ACCESS_NETWORK_...   \n",
       "19996  RECEIVE_BOOT_COMPLETED,REORDER_TASKS,REQUEST_C...   \n",
       "19998  KILL_BACKGROUND_PROCESSES,MANAGE_OWN_CALLS,MOD...   \n",
       "19999  BLUETOOTH,BLUETOOTH_ADMIN,BROADCAST_STICKY,CHA...   \n",
       "\n",
       "                       API Name               Website Name       Location  \\\n",
       "0                 Not Sensitive      http://www.grellin.ca        Jamaica   \n",
       "1                  getAuthToken     http://www.turmir.org/          Kenya   \n",
       "2                 Not Sensitive     http://www.fircix.com/        Somalia   \n",
       "3                getCertificate     http://www.intono.org/     Bangladesh   \n",
       "4                 Not Sensitive     http://www.uratax.com/        Nigeria   \n",
       "...                         ...                        ...            ...   \n",
       "19994             Not Sensitive      http://www.ceitalt.ca  United States   \n",
       "19995             Not Sensitive     http://www.ghelio.com/         Malawi   \n",
       "19996                 getParams      http://www.adoorig.ca          Egypt   \n",
       "19998  sendMultipartTextMessage  http://www.pacuppral.net/           Fiji   \n",
       "19999               getPassword      http://www.urdoree.ca           Iraq   \n",
       "\n",
       "      Label Request Type  Response Code    Attack Type  \n",
       "0        No       DELETE            400           CSRF  \n",
       "1       Yes       DELETE            500  Not an Attack  \n",
       "2        No          GET            401           CSRF  \n",
       "3       Yes         POST            404            XSS  \n",
       "4        No       DELETE            200           DDoS  \n",
       "...     ...          ...            ...            ...  \n",
       "19994    No          PUT            200  SQL Injection  \n",
       "19995    No       DELETE            200           CSRF  \n",
       "19996   Yes          GET            403            XSS  \n",
       "19998   Yes          GET            301  Not an Attack  \n",
       "19999   Yes          GET            500           CSRF  \n",
       "\n",
       "[17256 rows x 9 columns]"
      ]
     },
     "execution_count": 32,
     "metadata": {},
     "output_type": "execute_result"
    }
   ],
   "source": [
    "df"
   ]
  },
  {
   "cell_type": "markdown",
   "metadata": {
    "id": "pFW9Laya-G75"
   },
   "source": []
  },
  {
   "cell_type": "code",
   "execution_count": 33,
   "metadata": {
    "id": "wCy0EpFo-5vW"
   },
   "outputs": [],
   "source": [
    "from sklearn.preprocessing import LabelEncoder\n"
   ]
  },
  {
   "cell_type": "code",
   "execution_count": 34,
   "metadata": {
    "id": "MqYLhrFL-7Oh"
   },
   "outputs": [],
   "source": [
    "le=LabelEncoder()"
   ]
  },
  {
   "cell_type": "code",
   "execution_count": 35,
   "metadata": {
    "id": "ehenZjehjQB8"
   },
   "outputs": [],
   "source": [
    "le1=LabelEncoder()\n",
    "le2=LabelEncoder()\n",
    "le3=LabelEncoder()\n",
    "le4=LabelEncoder()\n",
    "le5=LabelEncoder()\n",
    "le6=LabelEncoder()\n",
    "le7=LabelEncoder()\n",
    "le8=LabelEncoder()\n",
    "le9=LabelEncoder()"
   ]
  },
  {
   "cell_type": "code",
   "execution_count": null,
   "metadata": {},
   "outputs": [],
   "source": []
  },
  {
   "cell_type": "code",
   "execution_count": null,
   "metadata": {},
   "outputs": [],
   "source": []
  },
  {
   "cell_type": "code",
   "execution_count": 37,
   "metadata": {
    "id": "qyePwiQeja5D"
   },
   "outputs": [],
   "source": [
    "df['App Names']=le1.fit_transform(df['App Names'])\n",
    "df['Permissions']=le2.fit_transform(df['Permissions'])\n",
    "df['API Name']=le3.fit_transform(df['API Name'])\n",
    "df['Website Name']=le4.fit_transform(df['Website Name'])\n",
    "df['Location']=le5.fit_transform(df['Location'])\n",
    "df['Label']=le6.fit_transform(df['Label'])\n",
    "df['Request Type']=le7.fit_transform(df['Request Type'])\n",
    "df['Response Code']=le8.fit_transform(df['Response Code'])\n",
    "df['Attack Type']=le9.fit_transform(df['Attack Type'])"
   ]
  },
  {
   "cell_type": "code",
   "execution_count": 38,
   "metadata": {
    "colab": {
     "base_uri": "https://localhost:8080/",
     "height": 423
    },
    "id": "03qDeunIkFuW",
    "outputId": "b4d9cad9-f613-49b3-b204-ac989a067e40"
   },
   "outputs": [
    {
     "data": {
      "text/html": [
       "<div>\n",
       "<style scoped>\n",
       "    .dataframe tbody tr th:only-of-type {\n",
       "        vertical-align: middle;\n",
       "    }\n",
       "\n",
       "    .dataframe tbody tr th {\n",
       "        vertical-align: top;\n",
       "    }\n",
       "\n",
       "    .dataframe thead th {\n",
       "        text-align: right;\n",
       "    }\n",
       "</style>\n",
       "<table border=\"1\" class=\"dataframe\">\n",
       "  <thead>\n",
       "    <tr style=\"text-align: right;\">\n",
       "      <th></th>\n",
       "      <th>App Names</th>\n",
       "      <th>Permissions</th>\n",
       "      <th>API Name</th>\n",
       "      <th>Website Name</th>\n",
       "      <th>Location</th>\n",
       "      <th>Label</th>\n",
       "      <th>Request Type</th>\n",
       "      <th>Response Code</th>\n",
       "      <th>Attack Type</th>\n",
       "    </tr>\n",
       "  </thead>\n",
       "  <tbody>\n",
       "    <tr>\n",
       "      <th>0</th>\n",
       "      <td>287</td>\n",
       "      <td>22</td>\n",
       "      <td>2</td>\n",
       "      <td>153</td>\n",
       "      <td>87</td>\n",
       "      <td>0</td>\n",
       "      <td>0</td>\n",
       "      <td>2</td>\n",
       "      <td>0</td>\n",
       "    </tr>\n",
       "    <tr>\n",
       "      <th>1</th>\n",
       "      <td>103</td>\n",
       "      <td>25</td>\n",
       "      <td>12</td>\n",
       "      <td>375</td>\n",
       "      <td>91</td>\n",
       "      <td>1</td>\n",
       "      <td>0</td>\n",
       "      <td>6</td>\n",
       "      <td>2</td>\n",
       "    </tr>\n",
       "    <tr>\n",
       "      <th>2</th>\n",
       "      <td>408</td>\n",
       "      <td>7</td>\n",
       "      <td>2</td>\n",
       "      <td>117</td>\n",
       "      <td>126</td>\n",
       "      <td>0</td>\n",
       "      <td>1</td>\n",
       "      <td>3</td>\n",
       "      <td>0</td>\n",
       "    </tr>\n",
       "    <tr>\n",
       "      <th>3</th>\n",
       "      <td>264</td>\n",
       "      <td>4</td>\n",
       "      <td>15</td>\n",
       "      <td>187</td>\n",
       "      <td>16</td>\n",
       "      <td>1</td>\n",
       "      <td>2</td>\n",
       "      <td>5</td>\n",
       "      <td>4</td>\n",
       "    </tr>\n",
       "    <tr>\n",
       "      <th>4</th>\n",
       "      <td>138</td>\n",
       "      <td>3</td>\n",
       "      <td>2</td>\n",
       "      <td>383</td>\n",
       "      <td>122</td>\n",
       "      <td>0</td>\n",
       "      <td>0</td>\n",
       "      <td>0</td>\n",
       "      <td>1</td>\n",
       "    </tr>\n",
       "    <tr>\n",
       "      <th>...</th>\n",
       "      <td>...</td>\n",
       "      <td>...</td>\n",
       "      <td>...</td>\n",
       "      <td>...</td>\n",
       "      <td>...</td>\n",
       "      <td>...</td>\n",
       "      <td>...</td>\n",
       "      <td>...</td>\n",
       "      <td>...</td>\n",
       "    </tr>\n",
       "    <tr>\n",
       "      <th>19994</th>\n",
       "      <td>140</td>\n",
       "      <td>2</td>\n",
       "      <td>2</td>\n",
       "      <td>54</td>\n",
       "      <td>152</td>\n",
       "      <td>0</td>\n",
       "      <td>3</td>\n",
       "      <td>0</td>\n",
       "      <td>3</td>\n",
       "    </tr>\n",
       "    <tr>\n",
       "      <th>19995</th>\n",
       "      <td>376</td>\n",
       "      <td>2</td>\n",
       "      <td>2</td>\n",
       "      <td>134</td>\n",
       "      <td>108</td>\n",
       "      <td>0</td>\n",
       "      <td>0</td>\n",
       "      <td>0</td>\n",
       "      <td>0</td>\n",
       "    </tr>\n",
       "    <tr>\n",
       "      <th>19996</th>\n",
       "      <td>370</td>\n",
       "      <td>20</td>\n",
       "      <td>22</td>\n",
       "      <td>9</td>\n",
       "      <td>54</td>\n",
       "      <td>1</td>\n",
       "      <td>1</td>\n",
       "      <td>4</td>\n",
       "      <td>4</td>\n",
       "    </tr>\n",
       "    <tr>\n",
       "      <th>19998</th>\n",
       "      <td>389</td>\n",
       "      <td>17</td>\n",
       "      <td>36</td>\n",
       "      <td>287</td>\n",
       "      <td>60</td>\n",
       "      <td>1</td>\n",
       "      <td>1</td>\n",
       "      <td>1</td>\n",
       "      <td>2</td>\n",
       "    </tr>\n",
       "    <tr>\n",
       "      <th>19999</th>\n",
       "      <td>396</td>\n",
       "      <td>5</td>\n",
       "      <td>23</td>\n",
       "      <td>384</td>\n",
       "      <td>84</td>\n",
       "      <td>1</td>\n",
       "      <td>1</td>\n",
       "      <td>6</td>\n",
       "      <td>0</td>\n",
       "    </tr>\n",
       "  </tbody>\n",
       "</table>\n",
       "<p>17256 rows × 9 columns</p>\n",
       "</div>"
      ],
      "text/plain": [
       "       App Names  Permissions  API Name  Website Name  Location  Label  \\\n",
       "0            287           22         2           153        87      0   \n",
       "1            103           25        12           375        91      1   \n",
       "2            408            7         2           117       126      0   \n",
       "3            264            4        15           187        16      1   \n",
       "4            138            3         2           383       122      0   \n",
       "...          ...          ...       ...           ...       ...    ...   \n",
       "19994        140            2         2            54       152      0   \n",
       "19995        376            2         2           134       108      0   \n",
       "19996        370           20        22             9        54      1   \n",
       "19998        389           17        36           287        60      1   \n",
       "19999        396            5        23           384        84      1   \n",
       "\n",
       "       Request Type  Response Code  Attack Type  \n",
       "0                 0              2            0  \n",
       "1                 0              6            2  \n",
       "2                 1              3            0  \n",
       "3                 2              5            4  \n",
       "4                 0              0            1  \n",
       "...             ...            ...          ...  \n",
       "19994             3              0            3  \n",
       "19995             0              0            0  \n",
       "19996             1              4            4  \n",
       "19998             1              1            2  \n",
       "19999             1              6            0  \n",
       "\n",
       "[17256 rows x 9 columns]"
      ]
     },
     "execution_count": 38,
     "metadata": {},
     "output_type": "execute_result"
    }
   ],
   "source": [
    "df"
   ]
  },
  {
   "cell_type": "code",
   "execution_count": 39,
   "metadata": {},
   "outputs": [
    {
     "data": {
      "image/png": "[encoded data removed]",
      "text/plain": [
       "<Figure size 1000x600 with 2 Axes>"
      ]
     },
     "metadata": {},
     "output_type": "display_data"
    }
   ],
   "source": [
    "plt.figure(figsize=(10,6))\n",
    "sns.heatmap(df.corr(), annot=True, cmap='coolwarm')\n",
    "plt.title('Correlation Matrix')\n",
    "plt.show()"
   ]
  },
  {
   "cell_type": "code",
   "execution_count": 40,
   "metadata": {
    "id": "NITTZ0Jg7JaM"
   },
   "outputs": [],
   "source": [
    "X=df.drop('Label',axis=1)\n",
    "y=df['Label']"
   ]
  },
  {
   "cell_type": "code",
   "execution_count": 41,
   "metadata": {
    "id": "FkJc40Qa7Yyf"
   },
   "outputs": [],
   "source": [
    "from sklearn.model_selection import train_test_split"
   ]
  },
  {
   "cell_type": "code",
   "execution_count": 42,
   "metadata": {
    "id": "wJSBaOtH9csT"
   },
   "outputs": [],
   "source": [
    "X_train,X_test,y_train,y_test=train_test_split(X,y,test_size=0.10,random_state=10)"
   ]
  },
  {
   "cell_type": "code",
   "execution_count": 43,
   "metadata": {
    "id": "7WQkvuK75yZh"
   },
   "outputs": [],
   "source": [
    "#Standardized the features\n",
    "scaler = StandardScaler()\n",
    "X_train = scaler.fit_transform(X_train)\n",
    "X_test = scaler.transform(X_test)"
   ]
  },
  {
   "cell_type": "code",
   "execution_count": 44,
   "metadata": {
    "id": "Llx9cLvurt-j"
   },
   "outputs": [],
   "source": [
    "from sklearn.tree import DecisionTreeClassifier\n"
   ]
  },
  {
   "cell_type": "code",
   "execution_count": 45,
   "metadata": {
    "id": "TPOyMfQYqBdV"
   },
   "outputs": [],
   "source": [
    "model=DecisionTreeClassifier()"
   ]
  },
  {
   "cell_type": "code",
   "execution_count": 46,
   "metadata": {
    "colab": {
     "base_uri": "https://localhost:8080/",
     "height": 80
    },
    "id": "Yj-DOGO4rX43",
    "outputId": "3e92c32e-4378-4fec-b5fc-c66d43e72ee0"
   },
   "outputs": [
    {
     "data": {
      "text/html": [
       "<style>#sk-container-id-1 {\n",
       "  /* Definition of color scheme common for light and dark mode */\n",
       "  --sklearn-color-text: black;\n",
       "  --sklearn-color-line: gray;\n",
       "  /* Definition of color scheme for unfitted estimators */\n",
       "  --sklearn-color-unfitted-level-0: #fff5e6;\n",
       "  --sklearn-color-unfitted-level-1: #f6e4d2;\n",
       "  --sklearn-color-unfitted-level-2: #ffe0b3;\n",
       "  --sklearn-color-unfitted-level-3: chocolate;\n",
       "  /* Definition of color scheme for fitted estimators */\n",
       "  --sklearn-color-fitted-level-0: #f0f8ff;\n",
       "  --sklearn-color-fitted-level-1: #d4ebff;\n",
       "  --sklearn-color-fitted-level-2: #b3dbfd;\n",
       "  --sklearn-color-fitted-level-3: cornflowerblue;\n",
       "\n",
       "  /* Specific color for light theme */\n",
       "  --sklearn-color-text-on-default-background: var(--sg-text-color, var(--theme-code-foreground, var(--jp-content-font-color1, black)));\n",
       "  --sklearn-color-background: var(--sg-background-color, var(--theme-background, var(--jp-layout-color0, white)));\n",
       "  --sklearn-color-border-box: var(--sg-text-color, var(--theme-code-foreground, var(--jp-content-font-color1, black)));\n",
       "  --sklearn-color-icon: #696969;\n",
       "\n",
       "  @media (prefers-color-scheme: dark) {\n",
       "    /* Redefinition of color scheme for dark theme */\n",
       "    --sklearn-color-text-on-default-background: var(--sg-text-color, var(--theme-code-foreground, var(--jp-content-font-color1, white)));\n",
       "    --sklearn-color-background: var(--sg-background-color, var(--theme-background, var(--jp-layout-color0, #111)));\n",
       "    --sklearn-color-border-box: var(--sg-text-color, var(--theme-code-foreground, var(--jp-content-font-color1, white)));\n",
       "    --sklearn-color-icon: #878787;\n",
       "  }\n",
       "}\n",
       "\n",
       "#sk-container-id-1 {\n",
       "  color: var(--sklearn-color-text);\n",
       "}\n",
       "\n",
       "#sk-container-id-1 pre {\n",
       "  padding: 0;\n",
       "}\n",
       "\n",
       "#sk-container-id-1 input.sk-hidden--visually {\n",
       "  border: 0;\n",
       "  clip: rect(1px 1px 1px 1px);\n",
       "  clip: rect(1px, 1px, 1px, 1px);\n",
       "  height: 1px;\n",
       "  margin: -1px;\n",
       "  overflow: hidden;\n",
       "  padding: 0;\n",
       "  position: absolute;\n",
       "  width: 1px;\n",
       "}\n",
       "\n",
       "#sk-container-id-1 div.sk-dashed-wrapped {\n",
       "  border: 1px dashed var(--sklearn-color-line);\n",
       "  margin: 0 0.4em 0.5em 0.4em;\n",
       "  box-sizing: border-box;\n",
       "  padding-bottom: 0.4em;\n",
       "  background-color: var(--sklearn-color-background);\n",
       "}\n",
       "\n",
       "#sk-container-id-1 div.sk-container {\n",
       "  /* jupyter's `normalize.less` sets `[hidden] { display: none; }`\n",
       "     but bootstrap.min.css set `[hidden] { display: none !important; }`\n",
       "     so we also need the `!important` here to be able to override the\n",
       "     default hidden behavior on the sphinx rendered scikit-learn.org.\n",
       "     See: https://github.com/scikit-learn/scikit-learn/issues/21755 */\n",
       "  display: inline-block !important;\n",
       "  position: relative;\n",
       "}\n",
       "\n",
       "#sk-container-id-1 div.sk-text-repr-fallback {\n",
       "  display: none;\n",
       "}\n",
       "\n",
       "div.sk-parallel-item,\n",
       "div.sk-serial,\n",
       "div.sk-item {\n",
       "  /* draw centered vertical line to link estimators */\n",
       "  background-image: linear-gradient(var(--sklearn-color-text-on-default-background), var(--sklearn-color-text-on-default-background));\n",
       "  background-size: 2px 100%;\n",
       "  background-repeat: no-repeat;\n",
       "  background-position: center center;\n",
       "}\n",
       "\n",
       "/* Parallel-specific style estimator block */\n",
       "\n",
       "#sk-container-id-1 div.sk-parallel-item::after {\n",
       "  content: \"\";\n",
       "  width: 100%;\n",
       "  border-bottom: 2px solid var(--sklearn-color-text-on-default-background);\n",
       "  flex-grow: 1;\n",
       "}\n",
       "\n",
       "#sk-container-id-1 div.sk-parallel {\n",
       "  display: flex;\n",
       "  align-items: stretch;\n",
       "  justify-content: center;\n",
       "  background-color: var(--sklearn-color-background);\n",
       "  position: relative;\n",
       "}\n",
       "\n",
       "#sk-container-id-1 div.sk-parallel-item {\n",
       "  display: flex;\n",
       "  flex-direction: column;\n",
       "}\n",
       "\n",
       "#sk-container-id-1 div.sk-parallel-item:first-child::after {\n",
       "  align-self: flex-end;\n",
       "  width: 50%;\n",
       "}\n",
       "\n",
       "#sk-container-id-1 div.sk-parallel-item:last-child::after {\n",
       "  align-self: flex-start;\n",
       "  width: 50%;\n",
       "}\n",
       "\n",
       "#sk-container-id-1 div.sk-parallel-item:only-child::after {\n",
       "  width: 0;\n",
       "}\n",
       "\n",
       "/* Serial-specific style estimator block */\n",
       "\n",
       "#sk-container-id-1 div.sk-serial {\n",
       "  display: flex;\n",
       "  flex-direction: column;\n",
       "  align-items: center;\n",
       "  background-color: var(--sklearn-color-background);\n",
       "  padding-right: 1em;\n",
       "  padding-left: 1em;\n",
       "}\n",
       "\n",
       "\n",
       "/* Toggleable style: style used for estimator/Pipeline/ColumnTransformer box that is\n",
       "clickable and can be expanded/collapsed.\n",
       "- Pipeline and ColumnTransformer use this feature and define the default style\n",
       "- Estimators will overwrite some part of the style using the `sk-estimator` class\n",
       "*/\n",
       "\n",
       "/* Pipeline and ColumnTransformer style (default) */\n",
       "\n",
       "#sk-container-id-1 div.sk-toggleable {\n",
       "  /* Default theme specific background. It is overwritten whether we have a\n",
       "  specific estimator or a Pipeline/ColumnTransformer */\n",
       "  background-color: var(--sklearn-color-background);\n",
       "}\n",
       "\n",
       "/* Toggleable label */\n",
       "#sk-container-id-1 label.sk-toggleable__label {\n",
       "  cursor: pointer;\n",
       "  display: block;\n",
       "  width: 100%;\n",
       "  margin-bottom: 0;\n",
       "  padding: 0.5em;\n",
       "  box-sizing: border-box;\n",
       "  text-align: center;\n",
       "}\n",
       "\n",
       "#sk-container-id-1 label.sk-toggleable__label-arrow:before {\n",
       "  /* Arrow on the left of the label */\n",
       "  content: \"▸\";\n",
       "  float: left;\n",
       "  margin-right: 0.25em;\n",
       "  color: var(--sklearn-color-icon);\n",
       "}\n",
       "\n",
       "#sk-container-id-1 label.sk-toggleable__label-arrow:hover:before {\n",
       "  color: var(--sklearn-color-text);\n",
       "}\n",
       "\n",
       "/* Toggleable content - dropdown */\n",
       "\n",
       "#sk-container-id-1 div.sk-toggleable__content {\n",
       "  max-height: 0;\n",
       "  max-width: 0;\n",
       "  overflow: hidden;\n",
       "  text-align: left;\n",
       "  /* unfitted */\n",
       "  background-color: var(--sklearn-color-unfitted-level-0);\n",
       "}\n",
       "\n",
       "#sk-container-id-1 div.sk-toggleable__content.fitted {\n",
       "  /* fitted */\n",
       "  background-color: var(--sklearn-color-fitted-level-0);\n",
       "}\n",
       "\n",
       "#sk-container-id-1 div.sk-toggleable__content pre {\n",
       "  margin: 0.2em;\n",
       "  border-radius: 0.25em;\n",
       "  color: var(--sklearn-color-text);\n",
       "  /* unfitted */\n",
       "  background-color: var(--sklearn-color-unfitted-level-0);\n",
       "}\n",
       "\n",
       "#sk-container-id-1 div.sk-toggleable__content.fitted pre {\n",
       "  /* unfitted */\n",
       "  background-color: var(--sklearn-color-fitted-level-0);\n",
       "}\n",
       "\n",
       "#sk-container-id-1 input.sk-toggleable__control:checked~div.sk-toggleable__content {\n",
       "  /* Expand drop-down */\n",
       "  max-height: 200px;\n",
       "  max-width: 100%;\n",
       "  overflow: auto;\n",
       "}\n",
       "\n",
       "#sk-container-id-1 input.sk-toggleable__control:checked~label.sk-toggleable__label-arrow:before {\n",
       "  content: \"▾\";\n",
       "}\n",
       "\n",
       "/* Pipeline/ColumnTransformer-specific style */\n",
       "\n",
       "#sk-container-id-1 div.sk-label input.sk-toggleable__control:checked~label.sk-toggleable__label {\n",
       "  color: var(--sklearn-color-text);\n",
       "  background-color: var(--sklearn-color-unfitted-level-2);\n",
       "}\n",
       "\n",
       "#sk-container-id-1 div.sk-label.fitted input.sk-toggleable__control:checked~label.sk-toggleable__label {\n",
       "  background-color: var(--sklearn-color-fitted-level-2);\n",
       "}\n",
       "\n",
       "/* Estimator-specific style */\n",
       "\n",
       "/* Colorize estimator box */\n",
       "#sk-container-id-1 div.sk-estimator input.sk-toggleable__control:checked~label.sk-toggleable__label {\n",
       "  /* unfitted */\n",
       "  background-color: var(--sklearn-color-unfitted-level-2);\n",
       "}\n",
       "\n",
       "#sk-container-id-1 div.sk-estimator.fitted input.sk-toggleable__control:checked~label.sk-toggleable__label {\n",
       "  /* fitted */\n",
       "  background-color: var(--sklearn-color-fitted-level-2);\n",
       "}\n",
       "\n",
       "#sk-container-id-1 div.sk-label label.sk-toggleable__label,\n",
       "#sk-container-id-1 div.sk-label label {\n",
       "  /* The background is the default theme color */\n",
       "  color: var(--sklearn-color-text-on-default-background);\n",
       "}\n",
       "\n",
       "/* On hover, darken the color of the background */\n",
       "#sk-container-id-1 div.sk-label:hover label.sk-toggleable__label {\n",
       "  color: var(--sklearn-color-text);\n",
       "  background-color: var(--sklearn-color-unfitted-level-2);\n",
       "}\n",
       "\n",
       "/* Label box, darken color on hover, fitted */\n",
       "#sk-container-id-1 div.sk-label.fitted:hover label.sk-toggleable__label.fitted {\n",
       "  color: var(--sklearn-color-text);\n",
       "  background-color: var(--sklearn-color-fitted-level-2);\n",
       "}\n",
       "\n",
       "/* Estimator label */\n",
       "\n",
       "#sk-container-id-1 div.sk-label label {\n",
       "  font-family: monospace;\n",
       "  font-weight: bold;\n",
       "  display: inline-block;\n",
       "  line-height: 1.2em;\n",
       "}\n",
       "\n",
       "#sk-container-id-1 div.sk-label-container {\n",
       "  text-align: center;\n",
       "}\n",
       "\n",
       "/* Estimator-specific */\n",
       "#sk-container-id-1 div.sk-estimator {\n",
       "  font-family: monospace;\n",
       "  border: 1px dotted var(--sklearn-color-border-box);\n",
       "  border-radius: 0.25em;\n",
       "  box-sizing: border-box;\n",
       "  margin-bottom: 0.5em;\n",
       "  /* unfitted */\n",
       "  background-color: var(--sklearn-color-unfitted-level-0);\n",
       "}\n",
       "\n",
       "#sk-container-id-1 div.sk-estimator.fitted {\n",
       "  /* fitted */\n",
       "  background-color: var(--sklearn-color-fitted-level-0);\n",
       "}\n",
       "\n",
       "/* on hover */\n",
       "#sk-container-id-1 div.sk-estimator:hover {\n",
       "  /* unfitted */\n",
       "  background-color: var(--sklearn-color-unfitted-level-2);\n",
       "}\n",
       "\n",
       "#sk-container-id-1 div.sk-estimator.fitted:hover {\n",
       "  /* fitted */\n",
       "  background-color: var(--sklearn-color-fitted-level-2);\n",
       "}\n",
       "\n",
       "/* Specification for estimator info (e.g. \"i\" and \"?\") */\n",
       "\n",
       "/* Common style for \"i\" and \"?\" */\n",
       "\n",
       ".sk-estimator-doc-link,\n",
       "a:link.sk-estimator-doc-link,\n",
       "a:visited.sk-estimator-doc-link {\n",
       "  float: right;\n",
       "  font-size: smaller;\n",
       "  line-height: 1em;\n",
       "  font-family: monospace;\n",
       "  background-color: var(--sklearn-color-background);\n",
       "  border-radius: 1em;\n",
       "  height: 1em;\n",
       "  width: 1em;\n",
       "  text-decoration: none !important;\n",
       "  margin-left: 1ex;\n",
       "  /* unfitted */\n",
       "  border: var(--sklearn-color-unfitted-level-1) 1pt solid;\n",
       "  color: var(--sklearn-color-unfitted-level-1);\n",
       "}\n",
       "\n",
       ".sk-estimator-doc-link.fitted,\n",
       "a:link.sk-estimator-doc-link.fitted,\n",
       "a:visited.sk-estimator-doc-link.fitted {\n",
       "  /* fitted */\n",
       "  border: var(--sklearn-color-fitted-level-1) 1pt solid;\n",
       "  color: var(--sklearn-color-fitted-level-1);\n",
       "}\n",
       "\n",
       "/* On hover */\n",
       "div.sk-estimator:hover .sk-estimator-doc-link:hover,\n",
       ".sk-estimator-doc-link:hover,\n",
       "div.sk-label-container:hover .sk-estimator-doc-link:hover,\n",
       ".sk-estimator-doc-link:hover {\n",
       "  /* unfitted */\n",
       "  background-color: var(--sklearn-color-unfitted-level-3);\n",
       "  color: var(--sklearn-color-background);\n",
       "  text-decoration: none;\n",
       "}\n",
       "\n",
       "div.sk-estimator.fitted:hover .sk-estimator-doc-link.fitted:hover,\n",
       ".sk-estimator-doc-link.fitted:hover,\n",
       "div.sk-label-container:hover .sk-estimator-doc-link.fitted:hover,\n",
       ".sk-estimator-doc-link.fitted:hover {\n",
       "  /* fitted */\n",
       "  background-color: var(--sklearn-color-fitted-level-3);\n",
       "  color: var(--sklearn-color-background);\n",
       "  text-decoration: none;\n",
       "}\n",
       "\n",
       "/* Span, style for the box shown on hovering the info icon */\n",
       ".sk-estimator-doc-link span {\n",
       "  display: none;\n",
       "  z-index: 9999;\n",
       "  position: relative;\n",
       "  font-weight: normal;\n",
       "  right: .2ex;\n",
       "  padding: .5ex;\n",
       "  margin: .5ex;\n",
       "  width: min-content;\n",
       "  min-width: 20ex;\n",
       "  max-width: 50ex;\n",
       "  color: var(--sklearn-color-text);\n",
       "  box-shadow: 2pt 2pt 4pt #999;\n",
       "  /* unfitted */\n",
       "  background: var(--sklearn-color-unfitted-level-0);\n",
       "  border: .5pt solid var(--sklearn-color-unfitted-level-3);\n",
       "}\n",
       "\n",
       ".sk-estimator-doc-link.fitted span {\n",
       "  /* fitted */\n",
       "  background: var(--sklearn-color-fitted-level-0);\n",
       "  border: var(--sklearn-color-fitted-level-3);\n",
       "}\n",
       "\n",
       ".sk-estimator-doc-link:hover span {\n",
       "  display: block;\n",
       "}\n",
       "\n",
       "/* \"?\"-specific style due to the `<a>` HTML tag */\n",
       "\n",
       "#sk-container-id-1 a.estimator_doc_link {\n",
       "  float: right;\n",
       "  font-size: 1rem;\n",
       "  line-height: 1em;\n",
       "  font-family: monospace;\n",
       "  background-color: var(--sklearn-color-background);\n",
       "  border-radius: 1rem;\n",
       "  height: 1rem;\n",
       "  width: 1rem;\n",
       "  text-decoration: none;\n",
       "  /* unfitted */\n",
       "  color: var(--sklearn-color-unfitted-level-1);\n",
       "  border: var(--sklearn-color-unfitted-level-1) 1pt solid;\n",
       "}\n",
       "\n",
       "#sk-container-id-1 a.estimator_doc_link.fitted {\n",
       "  /* fitted */\n",
       "  border: var(--sklearn-color-fitted-level-1) 1pt solid;\n",
       "  color: var(--sklearn-color-fitted-level-1);\n",
       "}\n",
       "\n",
       "/* On hover */\n",
       "#sk-container-id-1 a.estimator_doc_link:hover {\n",
       "  /* unfitted */\n",
       "  background-color: var(--sklearn-color-unfitted-level-3);\n",
       "  color: var(--sklearn-color-background);\n",
       "  text-decoration: none;\n",
       "}\n",
       "\n",
       "#sk-container-id-1 a.estimator_doc_link.fitted:hover {\n",
       "  /* fitted */\n",
       "  background-color: var(--sklearn-color-fitted-level-3);\n",
       "}\n",
       "</style><div id=\"sk-container-id-1\" class=\"sk-top-container\"><div class=\"sk-text-repr-fallback\"><pre>DecisionTreeClassifier()</pre><b>In a Jupyter environment, please rerun this cell to show the HTML representation or trust the notebook. <br />On GitHub, the HTML representation is unable to render, please try loading this page with nbviewer.org.</b></div><div class=\"sk-container\" hidden><div class=\"sk-item\"><div class=\"sk-estimator fitted sk-toggleable\"><input class=\"sk-toggleable__control sk-hidden--visually\" id=\"sk-estimator-id-1\" type=\"checkbox\" checked><label for=\"sk-estimator-id-1\" class=\"sk-toggleable__label fitted sk-toggleable__label-arrow fitted\">&nbsp;&nbsp;DecisionTreeClassifier<a class=\"sk-estimator-doc-link fitted\" rel=\"noreferrer\" target=\"_blank\" href=\"https://scikit-learn.org/1.4/modules/generated/sklearn.tree.DecisionTreeClassifier.html\">?<span>Documentation for DecisionTreeClassifier</span></a><span class=\"sk-estimator-doc-link fitted\">i<span>Fitted</span></span></label><div class=\"sk-toggleable__content fitted\"><pre>DecisionTreeClassifier()</pre></div> </div></div></div></div>"
      ],
      "text/plain": [
       "DecisionTreeClassifier()"
      ]
     },
     "execution_count": 46,
     "metadata": {},
     "output_type": "execute_result"
    }
   ],
   "source": [
    "model.fit(X_train,y_train)"
   ]
  },
  {
   "cell_type": "code",
   "execution_count": 47,
   "metadata": {
    "colab": {
     "base_uri": "https://localhost:8080/"
    },
    "id": "uGcsPChUr5W2",
    "outputId": "691f7dd1-57ad-43f9-dd5c-92e1590ba473"
   },
   "outputs": [
    {
     "data": {
      "text/plain": [
       "1.0"
      ]
     },
     "execution_count": 47,
     "metadata": {},
     "output_type": "execute_result"
    }
   ],
   "source": [
    "model.score(X_train,y_train)"
   ]
  },
  {
   "cell_type": "code",
   "execution_count": 48,
   "metadata": {
    "colab": {
     "base_uri": "https://localhost:8080/"
    },
    "id": "DxGDPmgAENsC",
    "outputId": "3cf5a5c5-c88d-4860-82c4-f51118956bc0"
   },
   "outputs": [
    {
     "data": {
      "text/plain": [
       "1.0"
      ]
     },
     "execution_count": 48,
     "metadata": {},
     "output_type": "execute_result"
    }
   ],
   "source": [
    "model.score(X_test,y_test)"
   ]
  },
  {
   "cell_type": "code",
   "execution_count": null,
   "metadata": {
    "id": "wf-Rp_v5zrfi"
   },
   "outputs": [],
   "source": []
  },
  {
   "cell_type": "code",
   "execution_count": 49,
   "metadata": {
    "id": "5w8s4yX6zvpB"
   },
   "outputs": [],
   "source": [
    "model=RandomForestClassifier()"
   ]
  },
  {
   "cell_type": "code",
   "execution_count": 50,
   "metadata": {
    "colab": {
     "base_uri": "https://localhost:8080/",
     "height": 80
    },
    "id": "PsqTz6eI0LY2",
    "outputId": "af0cfb79-6f8c-4683-89cd-f01934417eae"
   },
   "outputs": [
    {
     "data": {
      "text/html": [
       "<style>#sk-container-id-2 {\n",
       "  /* Definition of color scheme common for light and dark mode */\n",
       "  --sklearn-color-text: black;\n",
       "  --sklearn-color-line: gray;\n",
       "  /* Definition of color scheme for unfitted estimators */\n",
       "  --sklearn-color-unfitted-level-0: #fff5e6;\n",
       "  --sklearn-color-unfitted-level-1: #f6e4d2;\n",
       "  --sklearn-color-unfitted-level-2: #ffe0b3;\n",
       "  --sklearn-color-unfitted-level-3: chocolate;\n",
       "  /* Definition of color scheme for fitted estimators */\n",
       "  --sklearn-color-fitted-level-0: #f0f8ff;\n",
       "  --sklearn-color-fitted-level-1: #d4ebff;\n",
       "  --sklearn-color-fitted-level-2: #b3dbfd;\n",
       "  --sklearn-color-fitted-level-3: cornflowerblue;\n",
       "\n",
       "  /* Specific color for light theme */\n",
       "  --sklearn-color-text-on-default-background: var(--sg-text-color, var(--theme-code-foreground, var(--jp-content-font-color1, black)));\n",
       "  --sklearn-color-background: var(--sg-background-color, var(--theme-background, var(--jp-layout-color0, white)));\n",
       "  --sklearn-color-border-box: var(--sg-text-color, var(--theme-code-foreground, var(--jp-content-font-color1, black)));\n",
       "  --sklearn-color-icon: #696969;\n",
       "\n",
       "  @media (prefers-color-scheme: dark) {\n",
       "    /* Redefinition of color scheme for dark theme */\n",
       "    --sklearn-color-text-on-default-background: var(--sg-text-color, var(--theme-code-foreground, var(--jp-content-font-color1, white)));\n",
       "    --sklearn-color-background: var(--sg-background-color, var(--theme-background, var(--jp-layout-color0, #111)));\n",
       "    --sklearn-color-border-box: var(--sg-text-color, var(--theme-code-foreground, var(--jp-content-font-color1, white)));\n",
       "    --sklearn-color-icon: #878787;\n",
       "  }\n",
       "}\n",
       "\n",
       "#sk-container-id-2 {\n",
       "  color: var(--sklearn-color-text);\n",
       "}\n",
       "\n",
       "#sk-container-id-2 pre {\n",
       "  padding: 0;\n",
       "}\n",
       "\n",
       "#sk-container-id-2 input.sk-hidden--visually {\n",
       "  border: 0;\n",
       "  clip: rect(1px 1px 1px 1px);\n",
       "  clip: rect(1px, 1px, 1px, 1px);\n",
       "  height: 1px;\n",
       "  margin: -1px;\n",
       "  overflow: hidden;\n",
       "  padding: 0;\n",
       "  position: absolute;\n",
       "  width: 1px;\n",
       "}\n",
       "\n",
       "#sk-container-id-2 div.sk-dashed-wrapped {\n",
       "  border: 1px dashed var(--sklearn-color-line);\n",
       "  margin: 0 0.4em 0.5em 0.4em;\n",
       "  box-sizing: border-box;\n",
       "  padding-bottom: 0.4em;\n",
       "  background-color: var(--sklearn-color-background);\n",
       "}\n",
       "\n",
       "#sk-container-id-2 div.sk-container {\n",
       "  /* jupyter's `normalize.less` sets `[hidden] { display: none; }`\n",
       "     but bootstrap.min.css set `[hidden] { display: none !important; }`\n",
       "     so we also need the `!important` here to be able to override the\n",
       "     default hidden behavior on the sphinx rendered scikit-learn.org.\n",
       "     See: https://github.com/scikit-learn/scikit-learn/issues/21755 */\n",
       "  display: inline-block !important;\n",
       "  position: relative;\n",
       "}\n",
       "\n",
       "#sk-container-id-2 div.sk-text-repr-fallback {\n",
       "  display: none;\n",
       "}\n",
       "\n",
       "div.sk-parallel-item,\n",
       "div.sk-serial,\n",
       "div.sk-item {\n",
       "  /* draw centered vertical line to link estimators */\n",
       "  background-image: linear-gradient(var(--sklearn-color-text-on-default-background), var(--sklearn-color-text-on-default-background));\n",
       "  background-size: 2px 100%;\n",
       "  background-repeat: no-repeat;\n",
       "  background-position: center center;\n",
       "}\n",
       "\n",
       "/* Parallel-specific style estimator block */\n",
       "\n",
       "#sk-container-id-2 div.sk-parallel-item::after {\n",
       "  content: \"\";\n",
       "  width: 100%;\n",
       "  border-bottom: 2px solid var(--sklearn-color-text-on-default-background);\n",
       "  flex-grow: 1;\n",
       "}\n",
       "\n",
       "#sk-container-id-2 div.sk-parallel {\n",
       "  display: flex;\n",
       "  align-items: stretch;\n",
       "  justify-content: center;\n",
       "  background-color: var(--sklearn-color-background);\n",
       "  position: relative;\n",
       "}\n",
       "\n",
       "#sk-container-id-2 div.sk-parallel-item {\n",
       "  display: flex;\n",
       "  flex-direction: column;\n",
       "}\n",
       "\n",
       "#sk-container-id-2 div.sk-parallel-item:first-child::after {\n",
       "  align-self: flex-end;\n",
       "  width: 50%;\n",
       "}\n",
       "\n",
       "#sk-container-id-2 div.sk-parallel-item:last-child::after {\n",
       "  align-self: flex-start;\n",
       "  width: 50%;\n",
       "}\n",
       "\n",
       "#sk-container-id-2 div.sk-parallel-item:only-child::after {\n",
       "  width: 0;\n",
       "}\n",
       "\n",
       "/* Serial-specific style estimator block */\n",
       "\n",
       "#sk-container-id-2 div.sk-serial {\n",
       "  display: flex;\n",
       "  flex-direction: column;\n",
       "  align-items: center;\n",
       "  background-color: var(--sklearn-color-background);\n",
       "  padding-right: 1em;\n",
       "  padding-left: 1em;\n",
       "}\n",
       "\n",
       "\n",
       "/* Toggleable style: style used for estimator/Pipeline/ColumnTransformer box that is\n",
       "clickable and can be expanded/collapsed.\n",
       "- Pipeline and ColumnTransformer use this feature and define the default style\n",
       "- Estimators will overwrite some part of the style using the `sk-estimator` class\n",
       "*/\n",
       "\n",
       "/* Pipeline and ColumnTransformer style (default) */\n",
       "\n",
       "#sk-container-id-2 div.sk-toggleable {\n",
       "  /* Default theme specific background. It is overwritten whether we have a\n",
       "  specific estimator or a Pipeline/ColumnTransformer */\n",
       "  background-color: var(--sklearn-color-background);\n",
       "}\n",
       "\n",
       "/* Toggleable label */\n",
       "#sk-container-id-2 label.sk-toggleable__label {\n",
       "  cursor: pointer;\n",
       "  display: block;\n",
       "  width: 100%;\n",
       "  margin-bottom: 0;\n",
       "  padding: 0.5em;\n",
       "  box-sizing: border-box;\n",
       "  text-align: center;\n",
       "}\n",
       "\n",
       "#sk-container-id-2 label.sk-toggleable__label-arrow:before {\n",
       "  /* Arrow on the left of the label */\n",
       "  content: \"▸\";\n",
       "  float: left;\n",
       "  margin-right: 0.25em;\n",
       "  color: var(--sklearn-color-icon);\n",
       "}\n",
       "\n",
       "#sk-container-id-2 label.sk-toggleable__label-arrow:hover:before {\n",
       "  color: var(--sklearn-color-text);\n",
       "}\n",
       "\n",
       "/* Toggleable content - dropdown */\n",
       "\n",
       "#sk-container-id-2 div.sk-toggleable__content {\n",
       "  max-height: 0;\n",
       "  max-width: 0;\n",
       "  overflow: hidden;\n",
       "  text-align: left;\n",
       "  /* unfitted */\n",
       "  background-color: var(--sklearn-color-unfitted-level-0);\n",
       "}\n",
       "\n",
       "#sk-container-id-2 div.sk-toggleable__content.fitted {\n",
       "  /* fitted */\n",
       "  background-color: var(--sklearn-color-fitted-level-0);\n",
       "}\n",
       "\n",
       "#sk-container-id-2 div.sk-toggleable__content pre {\n",
       "  margin: 0.2em;\n",
       "  border-radius: 0.25em;\n",
       "  color: var(--sklearn-color-text);\n",
       "  /* unfitted */\n",
       "  background-color: var(--sklearn-color-unfitted-level-0);\n",
       "}\n",
       "\n",
       "#sk-container-id-2 div.sk-toggleable__content.fitted pre {\n",
       "  /* unfitted */\n",
       "  background-color: var(--sklearn-color-fitted-level-0);\n",
       "}\n",
       "\n",
       "#sk-container-id-2 input.sk-toggleable__control:checked~div.sk-toggleable__content {\n",
       "  /* Expand drop-down */\n",
       "  max-height: 200px;\n",
       "  max-width: 100%;\n",
       "  overflow: auto;\n",
       "}\n",
       "\n",
       "#sk-container-id-2 input.sk-toggleable__control:checked~label.sk-toggleable__label-arrow:before {\n",
       "  content: \"▾\";\n",
       "}\n",
       "\n",
       "/* Pipeline/ColumnTransformer-specific style */\n",
       "\n",
       "#sk-container-id-2 div.sk-label input.sk-toggleable__control:checked~label.sk-toggleable__label {\n",
       "  color: var(--sklearn-color-text);\n",
       "  background-color: var(--sklearn-color-unfitted-level-2);\n",
       "}\n",
       "\n",
       "#sk-container-id-2 div.sk-label.fitted input.sk-toggleable__control:checked~label.sk-toggleable__label {\n",
       "  background-color: var(--sklearn-color-fitted-level-2);\n",
       "}\n",
       "\n",
       "/* Estimator-specific style */\n",
       "\n",
       "/* Colorize estimator box */\n",
       "#sk-container-id-2 div.sk-estimator input.sk-toggleable__control:checked~label.sk-toggleable__label {\n",
       "  /* unfitted */\n",
       "  background-color: var(--sklearn-color-unfitted-level-2);\n",
       "}\n",
       "\n",
       "#sk-container-id-2 div.sk-estimator.fitted input.sk-toggleable__control:checked~label.sk-toggleable__label {\n",
       "  /* fitted */\n",
       "  background-color: var(--sklearn-color-fitted-level-2);\n",
       "}\n",
       "\n",
       "#sk-container-id-2 div.sk-label label.sk-toggleable__label,\n",
       "#sk-container-id-2 div.sk-label label {\n",
       "  /* The background is the default theme color */\n",
       "  color: var(--sklearn-color-text-on-default-background);\n",
       "}\n",
       "\n",
       "/* On hover, darken the color of the background */\n",
       "#sk-container-id-2 div.sk-label:hover label.sk-toggleable__label {\n",
       "  color: var(--sklearn-color-text);\n",
       "  background-color: var(--sklearn-color-unfitted-level-2);\n",
       "}\n",
       "\n",
       "/* Label box, darken color on hover, fitted */\n",
       "#sk-container-id-2 div.sk-label.fitted:hover label.sk-toggleable__label.fitted {\n",
       "  color: var(--sklearn-color-text);\n",
       "  background-color: var(--sklearn-color-fitted-level-2);\n",
       "}\n",
       "\n",
       "/* Estimator label */\n",
       "\n",
       "#sk-container-id-2 div.sk-label label {\n",
       "  font-family: monospace;\n",
       "  font-weight: bold;\n",
       "  display: inline-block;\n",
       "  line-height: 1.2em;\n",
       "}\n",
       "\n",
       "#sk-container-id-2 div.sk-label-container {\n",
       "  text-align: center;\n",
       "}\n",
       "\n",
       "/* Estimator-specific */\n",
       "#sk-container-id-2 div.sk-estimator {\n",
       "  font-family: monospace;\n",
       "  border: 1px dotted var(--sklearn-color-border-box);\n",
       "  border-radius: 0.25em;\n",
       "  box-sizing: border-box;\n",
       "  margin-bottom: 0.5em;\n",
       "  /* unfitted */\n",
       "  background-color: var(--sklearn-color-unfitted-level-0);\n",
       "}\n",
       "\n",
       "#sk-container-id-2 div.sk-estimator.fitted {\n",
       "  /* fitted */\n",
       "  background-color: var(--sklearn-color-fitted-level-0);\n",
       "}\n",
       "\n",
       "/* on hover */\n",
       "#sk-container-id-2 div.sk-estimator:hover {\n",
       "  /* unfitted */\n",
       "  background-color: var(--sklearn-color-unfitted-level-2);\n",
       "}\n",
       "\n",
       "#sk-container-id-2 div.sk-estimator.fitted:hover {\n",
       "  /* fitted */\n",
       "  background-color: var(--sklearn-color-fitted-level-2);\n",
       "}\n",
       "\n",
       "/* Specification for estimator info (e.g. \"i\" and \"?\") */\n",
       "\n",
       "/* Common style for \"i\" and \"?\" */\n",
       "\n",
       ".sk-estimator-doc-link,\n",
       "a:link.sk-estimator-doc-link,\n",
       "a:visited.sk-estimator-doc-link {\n",
       "  float: right;\n",
       "  font-size: smaller;\n",
       "  line-height: 1em;\n",
       "  font-family: monospace;\n",
       "  background-color: var(--sklearn-color-background);\n",
       "  border-radius: 1em;\n",
       "  height: 1em;\n",
       "  width: 1em;\n",
       "  text-decoration: none !important;\n",
       "  margin-left: 1ex;\n",
       "  /* unfitted */\n",
       "  border: var(--sklearn-color-unfitted-level-1) 1pt solid;\n",
       "  color: var(--sklearn-color-unfitted-level-1);\n",
       "}\n",
       "\n",
       ".sk-estimator-doc-link.fitted,\n",
       "a:link.sk-estimator-doc-link.fitted,\n",
       "a:visited.sk-estimator-doc-link.fitted {\n",
       "  /* fitted */\n",
       "  border: var(--sklearn-color-fitted-level-1) 1pt solid;\n",
       "  color: var(--sklearn-color-fitted-level-1);\n",
       "}\n",
       "\n",
       "/* On hover */\n",
       "div.sk-estimator:hover .sk-estimator-doc-link:hover,\n",
       ".sk-estimator-doc-link:hover,\n",
       "div.sk-label-container:hover .sk-estimator-doc-link:hover,\n",
       ".sk-estimator-doc-link:hover {\n",
       "  /* unfitted */\n",
       "  background-color: var(--sklearn-color-unfitted-level-3);\n",
       "  color: var(--sklearn-color-background);\n",
       "  text-decoration: none;\n",
       "}\n",
       "\n",
       "div.sk-estimator.fitted:hover .sk-estimator-doc-link.fitted:hover,\n",
       ".sk-estimator-doc-link.fitted:hover,\n",
       "div.sk-label-container:hover .sk-estimator-doc-link.fitted:hover,\n",
       ".sk-estimator-doc-link.fitted:hover {\n",
       "  /* fitted */\n",
       "  background-color: var(--sklearn-color-fitted-level-3);\n",
       "  color: var(--sklearn-color-background);\n",
       "  text-decoration: none;\n",
       "}\n",
       "\n",
       "/* Span, style for the box shown on hovering the info icon */\n",
       ".sk-estimator-doc-link span {\n",
       "  display: none;\n",
       "  z-index: 9999;\n",
       "  position: relative;\n",
       "  font-weight: normal;\n",
       "  right: .2ex;\n",
       "  padding: .5ex;\n",
       "  margin: .5ex;\n",
       "  width: min-content;\n",
       "  min-width: 20ex;\n",
       "  max-width: 50ex;\n",
       "  color: var(--sklearn-color-text);\n",
       "  box-shadow: 2pt 2pt 4pt #999;\n",
       "  /* unfitted */\n",
       "  background: var(--sklearn-color-unfitted-level-0);\n",
       "  border: .5pt solid var(--sklearn-color-unfitted-level-3);\n",
       "}\n",
       "\n",
       ".sk-estimator-doc-link.fitted span {\n",
       "  /* fitted */\n",
       "  background: var(--sklearn-color-fitted-level-0);\n",
       "  border: var(--sklearn-color-fitted-level-3);\n",
       "}\n",
       "\n",
       ".sk-estimator-doc-link:hover span {\n",
       "  display: block;\n",
       "}\n",
       "\n",
       "/* \"?\"-specific style due to the `<a>` HTML tag */\n",
       "\n",
       "#sk-container-id-2 a.estimator_doc_link {\n",
       "  float: right;\n",
       "  font-size: 1rem;\n",
       "  line-height: 1em;\n",
       "  font-family: monospace;\n",
       "  background-color: var(--sklearn-color-background);\n",
       "  border-radius: 1rem;\n",
       "  height: 1rem;\n",
       "  width: 1rem;\n",
       "  text-decoration: none;\n",
       "  /* unfitted */\n",
       "  color: var(--sklearn-color-unfitted-level-1);\n",
       "  border: var(--sklearn-color-unfitted-level-1) 1pt solid;\n",
       "}\n",
       "\n",
       "#sk-container-id-2 a.estimator_doc_link.fitted {\n",
       "  /* fitted */\n",
       "  border: var(--sklearn-color-fitted-level-1) 1pt solid;\n",
       "  color: var(--sklearn-color-fitted-level-1);\n",
       "}\n",
       "\n",
       "/* On hover */\n",
       "#sk-container-id-2 a.estimator_doc_link:hover {\n",
       "  /* unfitted */\n",
       "  background-color: var(--sklearn-color-unfitted-level-3);\n",
       "  color: var(--sklearn-color-background);\n",
       "  text-decoration: none;\n",
       "}\n",
       "\n",
       "#sk-container-id-2 a.estimator_doc_link.fitted:hover {\n",
       "  /* fitted */\n",
       "  background-color: var(--sklearn-color-fitted-level-3);\n",
       "}\n",
       "</style><div id=\"sk-container-id-2\" class=\"sk-top-container\"><div class=\"sk-text-repr-fallback\"><pre>RandomForestClassifier()</pre><b>In a Jupyter environment, please rerun this cell to show the HTML representation or trust the notebook. <br />On GitHub, the HTML representation is unable to render, please try loading this page with nbviewer.org.</b></div><div class=\"sk-container\" hidden><div class=\"sk-item\"><div class=\"sk-estimator fitted sk-toggleable\"><input class=\"sk-toggleable__control sk-hidden--visually\" id=\"sk-estimator-id-2\" type=\"checkbox\" checked><label for=\"sk-estimator-id-2\" class=\"sk-toggleable__label fitted sk-toggleable__label-arrow fitted\">&nbsp;&nbsp;RandomForestClassifier<a class=\"sk-estimator-doc-link fitted\" rel=\"noreferrer\" target=\"_blank\" href=\"https://scikit-learn.org/1.4/modules/generated/sklearn.ensemble.RandomForestClassifier.html\">?<span>Documentation for RandomForestClassifier</span></a><span class=\"sk-estimator-doc-link fitted\">i<span>Fitted</span></span></label><div class=\"sk-toggleable__content fitted\"><pre>RandomForestClassifier()</pre></div> </div></div></div></div>"
      ],
      "text/plain": [
       "RandomForestClassifier()"
      ]
     },
     "execution_count": 50,
     "metadata": {},
     "output_type": "execute_result"
    }
   ],
   "source": [
    "model.fit(X_train,y_train)"
   ]
  },
  {
   "cell_type": "code",
   "execution_count": 51,
   "metadata": {
    "colab": {
     "base_uri": "https://localhost:8080/"
    },
    "id": "XaY8aHty0qtJ",
    "outputId": "c3018af5-b3bc-40a1-c7e3-1ae35b7ba198"
   },
   "outputs": [
    {
     "data": {
      "text/plain": [
       "1.0"
      ]
     },
     "execution_count": 51,
     "metadata": {},
     "output_type": "execute_result"
    }
   ],
   "source": [
    "model.score(X_test,y_test)"
   ]
  },
  {
   "cell_type": "code",
   "execution_count": 52,
   "metadata": {
    "colab": {
     "base_uri": "https://localhost:8080/"
    },
    "id": "5qZhFNZp0tDA",
    "outputId": "87fd19b9-d51a-4fe4-fde4-3620554fdff0"
   },
   "outputs": [
    {
     "data": {
      "text/plain": [
       "1.0"
      ]
     },
     "execution_count": 52,
     "metadata": {},
     "output_type": "execute_result"
    }
   ],
   "source": [
    "model.score(X_train,y_train)"
   ]
  },
  {
   "cell_type": "code",
   "execution_count": 53,
   "metadata": {
    "id": "uKERCFQv0236"
   },
   "outputs": [],
   "source": [
    "model=LogisticRegression()"
   ]
  },
  {
   "cell_type": "code",
   "execution_count": 54,
   "metadata": {
    "colab": {
     "base_uri": "https://localhost:8080/",
     "height": 80
    },
    "id": "EmiDl0JY1ZIy",
    "outputId": "ed4fc2ca-a9cb-47c5-895f-1fddec3472c8"
   },
   "outputs": [
    {
     "data": {
      "text/html": [
       "<style>#sk-container-id-3 {\n",
       "  /* Definition of color scheme common for light and dark mode */\n",
       "  --sklearn-color-text: black;\n",
       "  --sklearn-color-line: gray;\n",
       "  /* Definition of color scheme for unfitted estimators */\n",
       "  --sklearn-color-unfitted-level-0: #fff5e6;\n",
       "  --sklearn-color-unfitted-level-1: #f6e4d2;\n",
       "  --sklearn-color-unfitted-level-2: #ffe0b3;\n",
       "  --sklearn-color-unfitted-level-3: chocolate;\n",
       "  /* Definition of color scheme for fitted estimators */\n",
       "  --sklearn-color-fitted-level-0: #f0f8ff;\n",
       "  --sklearn-color-fitted-level-1: #d4ebff;\n",
       "  --sklearn-color-fitted-level-2: #b3dbfd;\n",
       "  --sklearn-color-fitted-level-3: cornflowerblue;\n",
       "\n",
       "  /* Specific color for light theme */\n",
       "  --sklearn-color-text-on-default-background: var(--sg-text-color, var(--theme-code-foreground, var(--jp-content-font-color1, black)));\n",
       "  --sklearn-color-background: var(--sg-background-color, var(--theme-background, var(--jp-layout-color0, white)));\n",
       "  --sklearn-color-border-box: var(--sg-text-color, var(--theme-code-foreground, var(--jp-content-font-color1, black)));\n",
       "  --sklearn-color-icon: #696969;\n",
       "\n",
       "  @media (prefers-color-scheme: dark) {\n",
       "    /* Redefinition of color scheme for dark theme */\n",
       "    --sklearn-color-text-on-default-background: var(--sg-text-color, var(--theme-code-foreground, var(--jp-content-font-color1, white)));\n",
       "    --sklearn-color-background: var(--sg-background-color, var(--theme-background, var(--jp-layout-color0, #111)));\n",
       "    --sklearn-color-border-box: var(--sg-text-color, var(--theme-code-foreground, var(--jp-content-font-color1, white)));\n",
       "    --sklearn-color-icon: #878787;\n",
       "  }\n",
       "}\n",
       "\n",
       "#sk-container-id-3 {\n",
       "  color: var(--sklearn-color-text);\n",
       "}\n",
       "\n",
       "#sk-container-id-3 pre {\n",
       "  padding: 0;\n",
       "}\n",
       "\n",
       "#sk-container-id-3 input.sk-hidden--visually {\n",
       "  border: 0;\n",
       "  clip: rect(1px 1px 1px 1px);\n",
       "  clip: rect(1px, 1px, 1px, 1px);\n",
       "  height: 1px;\n",
       "  margin: -1px;\n",
       "  overflow: hidden;\n",
       "  padding: 0;\n",
       "  position: absolute;\n",
       "  width: 1px;\n",
       "}\n",
       "\n",
       "#sk-container-id-3 div.sk-dashed-wrapped {\n",
       "  border: 1px dashed var(--sklearn-color-line);\n",
       "  margin: 0 0.4em 0.5em 0.4em;\n",
       "  box-sizing: border-box;\n",
       "  padding-bottom: 0.4em;\n",
       "  background-color: var(--sklearn-color-background);\n",
       "}\n",
       "\n",
       "#sk-container-id-3 div.sk-container {\n",
       "  /* jupyter's `normalize.less` sets `[hidden] { display: none; }`\n",
       "     but bootstrap.min.css set `[hidden] { display: none !important; }`\n",
       "     so we also need the `!important` here to be able to override the\n",
       "     default hidden behavior on the sphinx rendered scikit-learn.org.\n",
       "     See: https://github.com/scikit-learn/scikit-learn/issues/21755 */\n",
       "  display: inline-block !important;\n",
       "  position: relative;\n",
       "}\n",
       "\n",
       "#sk-container-id-3 div.sk-text-repr-fallback {\n",
       "  display: none;\n",
       "}\n",
       "\n",
       "div.sk-parallel-item,\n",
       "div.sk-serial,\n",
       "div.sk-item {\n",
       "  /* draw centered vertical line to link estimators */\n",
       "  background-image: linear-gradient(var(--sklearn-color-text-on-default-background), var(--sklearn-color-text-on-default-background));\n",
       "  background-size: 2px 100%;\n",
       "  background-repeat: no-repeat;\n",
       "  background-position: center center;\n",
       "}\n",
       "\n",
       "/* Parallel-specific style estimator block */\n",
       "\n",
       "#sk-container-id-3 div.sk-parallel-item::after {\n",
       "  content: \"\";\n",
       "  width: 100%;\n",
       "  border-bottom: 2px solid var(--sklearn-color-text-on-default-background);\n",
       "  flex-grow: 1;\n",
       "}\n",
       "\n",
       "#sk-container-id-3 div.sk-parallel {\n",
       "  display: flex;\n",
       "  align-items: stretch;\n",
       "  justify-content: center;\n",
       "  background-color: var(--sklearn-color-background);\n",
       "  position: relative;\n",
       "}\n",
       "\n",
       "#sk-container-id-3 div.sk-parallel-item {\n",
       "  display: flex;\n",
       "  flex-direction: column;\n",
       "}\n",
       "\n",
       "#sk-container-id-3 div.sk-parallel-item:first-child::after {\n",
       "  align-self: flex-end;\n",
       "  width: 50%;\n",
       "}\n",
       "\n",
       "#sk-container-id-3 div.sk-parallel-item:last-child::after {\n",
       "  align-self: flex-start;\n",
       "  width: 50%;\n",
       "}\n",
       "\n",
       "#sk-container-id-3 div.sk-parallel-item:only-child::after {\n",
       "  width: 0;\n",
       "}\n",
       "\n",
       "/* Serial-specific style estimator block */\n",
       "\n",
       "#sk-container-id-3 div.sk-serial {\n",
       "  display: flex;\n",
       "  flex-direction: column;\n",
       "  align-items: center;\n",
       "  background-color: var(--sklearn-color-background);\n",
       "  padding-right: 1em;\n",
       "  padding-left: 1em;\n",
       "}\n",
       "\n",
       "\n",
       "/* Toggleable style: style used for estimator/Pipeline/ColumnTransformer box that is\n",
       "clickable and can be expanded/collapsed.\n",
       "- Pipeline and ColumnTransformer use this feature and define the default style\n",
       "- Estimators will overwrite some part of the style using the `sk-estimator` class\n",
       "*/\n",
       "\n",
       "/* Pipeline and ColumnTransformer style (default) */\n",
       "\n",
       "#sk-container-id-3 div.sk-toggleable {\n",
       "  /* Default theme specific background. It is overwritten whether we have a\n",
       "  specific estimator or a Pipeline/ColumnTransformer */\n",
       "  background-color: var(--sklearn-color-background);\n",
       "}\n",
       "\n",
       "/* Toggleable label */\n",
       "#sk-container-id-3 label.sk-toggleable__label {\n",
       "  cursor: pointer;\n",
       "  display: block;\n",
       "  width: 100%;\n",
       "  margin-bottom: 0;\n",
       "  padding: 0.5em;\n",
       "  box-sizing: border-box;\n",
       "  text-align: center;\n",
       "}\n",
       "\n",
       "#sk-container-id-3 label.sk-toggleable__label-arrow:before {\n",
       "  /* Arrow on the left of the label */\n",
       "  content: \"▸\";\n",
       "  float: left;\n",
       "  margin-right: 0.25em;\n",
       "  color: var(--sklearn-color-icon);\n",
       "}\n",
       "\n",
       "#sk-container-id-3 label.sk-toggleable__label-arrow:hover:before {\n",
       "  color: var(--sklearn-color-text);\n",
       "}\n",
       "\n",
       "/* Toggleable content - dropdown */\n",
       "\n",
       "#sk-container-id-3 div.sk-toggleable__content {\n",
       "  max-height: 0;\n",
       "  max-width: 0;\n",
       "  overflow: hidden;\n",
       "  text-align: left;\n",
       "  /* unfitted */\n",
       "  background-color: var(--sklearn-color-unfitted-level-0);\n",
       "}\n",
       "\n",
       "#sk-container-id-3 div.sk-toggleable__content.fitted {\n",
       "  /* fitted */\n",
       "  background-color: var(--sklearn-color-fitted-level-0);\n",
       "}\n",
       "\n",
       "#sk-container-id-3 div.sk-toggleable__content pre {\n",
       "  margin: 0.2em;\n",
       "  border-radius: 0.25em;\n",
       "  color: var(--sklearn-color-text);\n",
       "  /* unfitted */\n",
       "  background-color: var(--sklearn-color-unfitted-level-0);\n",
       "}\n",
       "\n",
       "#sk-container-id-3 div.sk-toggleable__content.fitted pre {\n",
       "  /* unfitted */\n",
       "  background-color: var(--sklearn-color-fitted-level-0);\n",
       "}\n",
       "\n",
       "#sk-container-id-3 input.sk-toggleable__control:checked~div.sk-toggleable__content {\n",
       "  /* Expand drop-down */\n",
       "  max-height: 200px;\n",
       "  max-width: 100%;\n",
       "  overflow: auto;\n",
       "}\n",
       "\n",
       "#sk-container-id-3 input.sk-toggleable__control:checked~label.sk-toggleable__label-arrow:before {\n",
       "  content: \"▾\";\n",
       "}\n",
       "\n",
       "/* Pipeline/ColumnTransformer-specific style */\n",
       "\n",
       "#sk-container-id-3 div.sk-label input.sk-toggleable__control:checked~label.sk-toggleable__label {\n",
       "  color: var(--sklearn-color-text);\n",
       "  background-color: var(--sklearn-color-unfitted-level-2);\n",
       "}\n",
       "\n",
       "#sk-container-id-3 div.sk-label.fitted input.sk-toggleable__control:checked~label.sk-toggleable__label {\n",
       "  background-color: var(--sklearn-color-fitted-level-2);\n",
       "}\n",
       "\n",
       "/* Estimator-specific style */\n",
       "\n",
       "/* Colorize estimator box */\n",
       "#sk-container-id-3 div.sk-estimator input.sk-toggleable__control:checked~label.sk-toggleable__label {\n",
       "  /* unfitted */\n",
       "  background-color: var(--sklearn-color-unfitted-level-2);\n",
       "}\n",
       "\n",
       "#sk-container-id-3 div.sk-estimator.fitted input.sk-toggleable__control:checked~label.sk-toggleable__label {\n",
       "  /* fitted */\n",
       "  background-color: var(--sklearn-color-fitted-level-2);\n",
       "}\n",
       "\n",
       "#sk-container-id-3 div.sk-label label.sk-toggleable__label,\n",
       "#sk-container-id-3 div.sk-label label {\n",
       "  /* The background is the default theme color */\n",
       "  color: var(--sklearn-color-text-on-default-background);\n",
       "}\n",
       "\n",
       "/* On hover, darken the color of the background */\n",
       "#sk-container-id-3 div.sk-label:hover label.sk-toggleable__label {\n",
       "  color: var(--sklearn-color-text);\n",
       "  background-color: var(--sklearn-color-unfitted-level-2);\n",
       "}\n",
       "\n",
       "/* Label box, darken color on hover, fitted */\n",
       "#sk-container-id-3 div.sk-label.fitted:hover label.sk-toggleable__label.fitted {\n",
       "  color: var(--sklearn-color-text);\n",
       "  background-color: var(--sklearn-color-fitted-level-2);\n",
       "}\n",
       "\n",
       "/* Estimator label */\n",
       "\n",
       "#sk-container-id-3 div.sk-label label {\n",
       "  font-family: monospace;\n",
       "  font-weight: bold;\n",
       "  display: inline-block;\n",
       "  line-height: 1.2em;\n",
       "}\n",
       "\n",
       "#sk-container-id-3 div.sk-label-container {\n",
       "  text-align: center;\n",
       "}\n",
       "\n",
       "/* Estimator-specific */\n",
       "#sk-container-id-3 div.sk-estimator {\n",
       "  font-family: monospace;\n",
       "  border: 1px dotted var(--sklearn-color-border-box);\n",
       "  border-radius: 0.25em;\n",
       "  box-sizing: border-box;\n",
       "  margin-bottom: 0.5em;\n",
       "  /* unfitted */\n",
       "  background-color: var(--sklearn-color-unfitted-level-0);\n",
       "}\n",
       "\n",
       "#sk-container-id-3 div.sk-estimator.fitted {\n",
       "  /* fitted */\n",
       "  background-color: var(--sklearn-color-fitted-level-0);\n",
       "}\n",
       "\n",
       "/* on hover */\n",
       "#sk-container-id-3 div.sk-estimator:hover {\n",
       "  /* unfitted */\n",
       "  background-color: var(--sklearn-color-unfitted-level-2);\n",
       "}\n",
       "\n",
       "#sk-container-id-3 div.sk-estimator.fitted:hover {\n",
       "  /* fitted */\n",
       "  background-color: var(--sklearn-color-fitted-level-2);\n",
       "}\n",
       "\n",
       "/* Specification for estimator info (e.g. \"i\" and \"?\") */\n",
       "\n",
       "/* Common style for \"i\" and \"?\" */\n",
       "\n",
       ".sk-estimator-doc-link,\n",
       "a:link.sk-estimator-doc-link,\n",
       "a:visited.sk-estimator-doc-link {\n",
       "  float: right;\n",
       "  font-size: smaller;\n",
       "  line-height: 1em;\n",
       "  font-family: monospace;\n",
       "  background-color: var(--sklearn-color-background);\n",
       "  border-radius: 1em;\n",
       "  height: 1em;\n",
       "  width: 1em;\n",
       "  text-decoration: none !important;\n",
       "  margin-left: 1ex;\n",
       "  /* unfitted */\n",
       "  border: var(--sklearn-color-unfitted-level-1) 1pt solid;\n",
       "  color: var(--sklearn-color-unfitted-level-1);\n",
       "}\n",
       "\n",
       ".sk-estimator-doc-link.fitted,\n",
       "a:link.sk-estimator-doc-link.fitted,\n",
       "a:visited.sk-estimator-doc-link.fitted {\n",
       "  /* fitted */\n",
       "  border: var(--sklearn-color-fitted-level-1) 1pt solid;\n",
       "  color: var(--sklearn-color-fitted-level-1);\n",
       "}\n",
       "\n",
       "/* On hover */\n",
       "div.sk-estimator:hover .sk-estimator-doc-link:hover,\n",
       ".sk-estimator-doc-link:hover,\n",
       "div.sk-label-container:hover .sk-estimator-doc-link:hover,\n",
       ".sk-estimator-doc-link:hover {\n",
       "  /* unfitted */\n",
       "  background-color: var(--sklearn-color-unfitted-level-3);\n",
       "  color: var(--sklearn-color-background);\n",
       "  text-decoration: none;\n",
       "}\n",
       "\n",
       "div.sk-estimator.fitted:hover .sk-estimator-doc-link.fitted:hover,\n",
       ".sk-estimator-doc-link.fitted:hover,\n",
       "div.sk-label-container:hover .sk-estimator-doc-link.fitted:hover,\n",
       ".sk-estimator-doc-link.fitted:hover {\n",
       "  /* fitted */\n",
       "  background-color: var(--sklearn-color-fitted-level-3);\n",
       "  color: var(--sklearn-color-background);\n",
       "  text-decoration: none;\n",
       "}\n",
       "\n",
       "/* Span, style for the box shown on hovering the info icon */\n",
       ".sk-estimator-doc-link span {\n",
       "  display: none;\n",
       "  z-index: 9999;\n",
       "  position: relative;\n",
       "  font-weight: normal;\n",
       "  right: .2ex;\n",
       "  padding: .5ex;\n",
       "  margin: .5ex;\n",
       "  width: min-content;\n",
       "  min-width: 20ex;\n",
       "  max-width: 50ex;\n",
       "  color: var(--sklearn-color-text);\n",
       "  box-shadow: 2pt 2pt 4pt #999;\n",
       "  /* unfitted */\n",
       "  background: var(--sklearn-color-unfitted-level-0);\n",
       "  border: .5pt solid var(--sklearn-color-unfitted-level-3);\n",
       "}\n",
       "\n",
       ".sk-estimator-doc-link.fitted span {\n",
       "  /* fitted */\n",
       "  background: var(--sklearn-color-fitted-level-0);\n",
       "  border: var(--sklearn-color-fitted-level-3);\n",
       "}\n",
       "\n",
       ".sk-estimator-doc-link:hover span {\n",
       "  display: block;\n",
       "}\n",
       "\n",
       "/* \"?\"-specific style due to the `<a>` HTML tag */\n",
       "\n",
       "#sk-container-id-3 a.estimator_doc_link {\n",
       "  float: right;\n",
       "  font-size: 1rem;\n",
       "  line-height: 1em;\n",
       "  font-family: monospace;\n",
       "  background-color: var(--sklearn-color-background);\n",
       "  border-radius: 1rem;\n",
       "  height: 1rem;\n",
       "  width: 1rem;\n",
       "  text-decoration: none;\n",
       "  /* unfitted */\n",
       "  color: var(--sklearn-color-unfitted-level-1);\n",
       "  border: var(--sklearn-color-unfitted-level-1) 1pt solid;\n",
       "}\n",
       "\n",
       "#sk-container-id-3 a.estimator_doc_link.fitted {\n",
       "  /* fitted */\n",
       "  border: var(--sklearn-color-fitted-level-1) 1pt solid;\n",
       "  color: var(--sklearn-color-fitted-level-1);\n",
       "}\n",
       "\n",
       "/* On hover */\n",
       "#sk-container-id-3 a.estimator_doc_link:hover {\n",
       "  /* unfitted */\n",
       "  background-color: var(--sklearn-color-unfitted-level-3);\n",
       "  color: var(--sklearn-color-background);\n",
       "  text-decoration: none;\n",
       "}\n",
       "\n",
       "#sk-container-id-3 a.estimator_doc_link.fitted:hover {\n",
       "  /* fitted */\n",
       "  background-color: var(--sklearn-color-fitted-level-3);\n",
       "}\n",
       "</style><div id=\"sk-container-id-3\" class=\"sk-top-container\"><div class=\"sk-text-repr-fallback\"><pre>LogisticRegression()</pre><b>In a Jupyter environment, please rerun this cell to show the HTML representation or trust the notebook. <br />On GitHub, the HTML representation is unable to render, please try loading this page with nbviewer.org.</b></div><div class=\"sk-container\" hidden><div class=\"sk-item\"><div class=\"sk-estimator fitted sk-toggleable\"><input class=\"sk-toggleable__control sk-hidden--visually\" id=\"sk-estimator-id-3\" type=\"checkbox\" checked><label for=\"sk-estimator-id-3\" class=\"sk-toggleable__label fitted sk-toggleable__label-arrow fitted\">&nbsp;&nbsp;LogisticRegression<a class=\"sk-estimator-doc-link fitted\" rel=\"noreferrer\" target=\"_blank\" href=\"https://scikit-learn.org/1.4/modules/generated/sklearn.linear_model.LogisticRegression.html\">?<span>Documentation for LogisticRegression</span></a><span class=\"sk-estimator-doc-link fitted\">i<span>Fitted</span></span></label><div class=\"sk-toggleable__content fitted\"><pre>LogisticRegression()</pre></div> </div></div></div></div>"
      ],
      "text/plain": [
       "LogisticRegression()"
      ]
     },
     "execution_count": 54,
     "metadata": {},
     "output_type": "execute_result"
    }
   ],
   "source": [
    "model.fit(X_train,y_train)"
   ]
  },
  {
   "cell_type": "code",
   "execution_count": 55,
   "metadata": {
    "colab": {
     "base_uri": "https://localhost:8080/"
    },
    "id": "oLq9sUm81cYw",
    "outputId": "b2191b70-436d-48df-d038-274da9cc066b"
   },
   "outputs": [
    {
     "data": {
      "text/plain": [
       "0.9803012746234068"
      ]
     },
     "execution_count": 55,
     "metadata": {},
     "output_type": "execute_result"
    }
   ],
   "source": [
    "model.score(X_test,y_test)"
   ]
  },
  {
   "cell_type": "code",
   "execution_count": 56,
   "metadata": {
    "colab": {
     "base_uri": "https://localhost:8080/"
    },
    "id": "-FCrgdFR1hj4",
    "outputId": "bc2ebb16-133a-4d30-8ba8-e747b5bc5033"
   },
   "outputs": [
    {
     "data": {
      "text/plain": [
       "0.9779781068898905"
      ]
     },
     "execution_count": 56,
     "metadata": {},
     "output_type": "execute_result"
    }
   ],
   "source": [
    "model.score(X_train,y_train)"
   ]
  },
  {
   "cell_type": "code",
   "execution_count": 57,
   "metadata": {
    "id": "_keW0vVs1pN2"
   },
   "outputs": [],
   "source": [
    "from sklearn.metrics import accuracy_score"
   ]
  },
  {
   "cell_type": "code",
   "execution_count": 58,
   "metadata": {
    "id": "Wp1Qt4q-11-y"
   },
   "outputs": [],
   "source": [
    "models =[ DecisionTreeClassifier(),LogisticRegression(),RandomForestClassifier(),XGBClassifier(),GaussianNB(),]"
   ]
  },
  {
   "cell_type": "code",
   "execution_count": 59,
   "metadata": {
    "colab": {
     "base_uri": "https://localhost:8080/",
     "height": 637
    },
    "id": "KJUA-vP8xkBK",
    "outputId": "644f9b38-65cb-489c-e54a-766e2ebfac15"
   },
   "outputs": [],
   "source": [
    "def compare_models():\n",
    "  for model in models:\n",
    "    model.fit(X_train,y_train)\n",
    "    y_pred= model.predict(X_test)\n",
    "    accuracy = accuracy_score(y_test,y_pred)\n",
    "    print(\"Accuracy score of\" , model ,\"is: \", accuracy)"
   ]
  },
  {
   "cell_type": "code",
   "execution_count": 60,
   "metadata": {
    "id": "m3xYsdI6xj6i"
   },
   "outputs": [
    {
     "name": "stdout",
     "output_type": "stream",
     "text": [
      "Accuracy score of DecisionTreeClassifier() is:  1.0\n",
      "Accuracy score of LogisticRegression() is:  0.9803012746234068\n",
      "Accuracy score of RandomForestClassifier() is:  1.0\n",
      "Accuracy score of XGBClassifier(base_score=None, booster=None, callbacks=None,\n",
      "              colsample_bylevel=None, colsample_bynode=None,\n",
      "              colsample_bytree=None, device=None, early_stopping_rounds=None,\n",
      "              enable_categorical=False, eval_metric=None, feature_types=None,\n",
      "              gamma=None, grow_policy=None, importance_type=None,\n",
      "              interaction_constraints=None, learning_rate=None, max_bin=None,\n",
      "              max_cat_threshold=None, max_cat_to_onehot=None,\n",
      "              max_delta_step=None, max_depth=None, max_leaves=None,\n",
      "              min_child_weight=None, missing=nan, monotone_constraints=None,\n",
      "              multi_strategy=None, n_estimators=None, n_jobs=None,\n",
      "              num_parallel_tree=None, random_state=None, ...) is:  1.0\n",
      "Accuracy score of GaussianNB() is:  1.0\n"
     ]
    }
   ],
   "source": [
    "compare_models()"
   ]
  },
  {
   "cell_type": "code",
   "execution_count": 61,
   "metadata": {
    "colab": {
     "base_uri": "https://localhost:8080/",
     "height": 353
    },
    "id": "sKR8_NrSEj8l",
    "outputId": "897b6596-748e-4e74-9931-a348400871e9"
   },
   "outputs": [
    {
     "name": "stdout",
     "output_type": "stream",
     "text": [
      "Fitting 5 folds for each of 16 candidates, totalling 80 fits\n",
      "Logistic Regression Results:\n",
      "Best Parameters: {'C': 10, 'penalty': 'l1', 'solver': 'saga'}\n",
      "Train Accuracy: 0.9858338699291693\n",
      "Test Accuracy: 0.9884125144843569\n",
      "Confusion Matrix:\n",
      " [[887   0]\n",
      " [ 20 819]]\n",
      "Classification Report:\n",
      "               precision    recall  f1-score   support\n",
      "\n",
      "           0       0.98      1.00      0.99       887\n",
      "           1       1.00      0.98      0.99       839\n",
      "\n",
      "    accuracy                           0.99      1726\n",
      "   macro avg       0.99      0.99      0.99      1726\n",
      "weighted avg       0.99      0.99      0.99      1726\n",
      "\n"
     ]
    }
   ],
   "source": [
    "#logistic tuning\n",
    "param_grid_lr = {\n",
    "    'C': [0.01, 0.1, 1, 10],\n",
    "    'penalty': ['l1', 'l2'],\n",
    "    'solver': ['liblinear', 'saga']\n",
    "}\n",
    "\n",
    "grid_search_lr = GridSearchCV(\n",
    "    estimator=LogisticRegression(max_iter=1000, random_state=42),\n",
    "    param_grid=param_grid_lr, scoring='accuracy', cv=5, verbose=1, n_jobs=-1\n",
    ")\n",
    "\n",
    "# Fit and evaluate\n",
    "grid_search_lr.fit(X_train, y_train)\n",
    "best_lr = grid_search_lr.best_estimator_\n",
    "\n",
    "# Predictions\n",
    "y_train_pred_lr = best_lr.predict(X_train)\n",
    "y_test_pred_lr = best_lr.predict(X_test)\n",
    "\n",
    "# Metrics\n",
    "print(\"Logistic Regression Results:\")\n",
    "print(\"Best Parameters:\", grid_search_lr.best_params_)\n",
    "print(\"Train Accuracy:\", accuracy_score(y_train, y_train_pred_lr))\n",
    "print(\"Test Accuracy:\", accuracy_score(y_test, y_test_pred_lr))\n",
    "print(\"Confusion Matrix:\\n\", confusion_matrix(y_test, y_test_pred_lr))\n",
    "print(\"Classification Report:\\n\", classification_report(y_test, y_test_pred_lr))"
   ]
  },
  {
   "cell_type": "code",
   "execution_count": null,
   "metadata": {
    "id": "ZfxoahL1KRJ2"
   },
   "outputs": [],
   "source": []
  },
  {
   "cell_type": "code",
   "execution_count": 62,
   "metadata": {
    "id": "ZcEx2n8cyhVE"
   },
   "outputs": [],
   "source": [
    "\n",
    "\n",
    "model_params = {\n",
    "    'logistic_regression': {'model': LogisticRegression(), 'params': {'C': [1, 5, 10]}},\n",
    "    'random_forest': {'model': RandomForestClassifier(), 'params': {'n_estimators': [1, 2, 10]}},\n",
    "    'decision_tree': {'model': DecisionTreeClassifier(), 'params': {'max_depth': [1, 5, 10]}},\n",
    "    'knn': {'model': KNeighborsClassifier(), 'params': {'n_neighbors': [1, 5, 10]}},\n",
    "    'XGB': {'model': XGBClassifier(), 'params': {'alpha': [0.4]}},\n",
    "    'naive_bayes': {'model': GaussianNB(), 'params': {'var_smoothing': [1e-9, 1e-8, 1e-7]}}\n",
    "}\n",
    "\n",
    "scores = []\n",
    "models=['logistic_regression','random_forest','decision_tree','knn','XGB','naive_bayes']\n",
    "\n",
    "for model_name in models:\n",
    "    mp=model_params[model_name]\n",
    "    gds=GridSearchCV(mp['model'],mp['params'],cv=5,return_train_score=True)\n",
    "    gds.fit(X_train,y_train)\n",
    "    scores.append({'model':model_name,'best_score':gds.best_score_,'best_params':gds.best_params_})\n",
    "    best_model = gds.best_estimator_\n",
    "    #evaluate on test set\n",
    "    y_pred = best_model.predict(X_test)\n",
    "    acc_score = accuracy_score(y_test,y_pred)\n",
    "    "
   ]
  },
  {
   "cell_type": "code",
   "execution_count": 63,
   "metadata": {
    "id": "f6Qco-9CK0XD"
   },
   "outputs": [
    {
     "data": {
      "text/plain": [
       "[{'model': 'logistic_regression',\n",
       "  'best_score': 0.983451384417257,\n",
       "  'best_params': {'C': 10}},\n",
       " {'model': 'random_forest',\n",
       "  'best_score': 1.0,\n",
       "  'best_params': {'n_estimators': 10}},\n",
       " {'model': 'decision_tree',\n",
       "  'best_score': 1.0,\n",
       "  'best_params': {'max_depth': 5}},\n",
       " {'model': 'knn',\n",
       "  'best_score': 0.928718609143593,\n",
       "  'best_params': {'n_neighbors': 5}},\n",
       " {'model': 'XGB', 'best_score': 1.0, 'best_params': {'alpha': 0.4}},\n",
       " {'model': 'naive_bayes',\n",
       "  'best_score': 1.0,\n",
       "  'best_params': {'var_smoothing': 1e-09}}]"
      ]
     },
     "execution_count": 63,
     "metadata": {},
     "output_type": "execute_result"
    }
   ],
   "source": [
    "scores"
   ]
  },
  {
   "cell_type": "code",
   "execution_count": 64,
   "metadata": {
    "id": "jre6CP3iLvic"
   },
   "outputs": [
    {
     "data": {
      "image/png": "[encoded data removed]",
      "text/plain": [
       "<Figure size 1000x600 with 1 Axes>"
      ]
     },
     "metadata": {},
     "output_type": "display_data"
    }
   ],
   "source": [
    "model=[score['model'] for score in scores]\n",
    "scor=[score['best_score'] for score in scores]\n",
    "plt.figure(figsize=(10, 6))\n",
    "plt.bar(model,scor,color='yellow')\n",
    "plt.xlabel('Models')\n",
    "plt.ylabel('Scores')\n",
    "plt.title('Hyperparameter Tuning Results')\n",
    "plt.ylim(0, 1.2)\n",
    "\n",
    "for i, score in enumerate(scor):\n",
    "    plt.text(i,score + 0.02 , f'{score:.3f}', ha='center')\n",
    "\n",
    "plt.show()"
   ]
  },
  {
   "cell_type": "code",
   "execution_count": 65,
   "metadata": {},
   "outputs": [
    {
     "name": "stdout",
     "output_type": "stream",
     "text": [
      "Classification Report:\n",
      "              precision    recall  f1-score   support\n",
      "\n",
      "           0       1.00      1.00      1.00       887\n",
      "           1       1.00      1.00      1.00       839\n",
      "\n",
      "    accuracy                           1.00      1726\n",
      "   macro avg       1.00      1.00      1.00      1726\n",
      "weighted avg       1.00      1.00      1.00      1726\n",
      "\n"
     ]
    }
   ],
   "source": [
    "# Evaluate the model\n",
    "print(\"Classification Report:\")\n",
    "print(classification_report(y_test, y_pred))"
   ]
  },
  {
   "cell_type": "code",
   "execution_count": 66,
   "metadata": {},
   "outputs": [
    {
     "name": "stdout",
     "output_type": "stream",
     "text": [
      "Confusion Matrix:\n",
      "[[887   0]\n",
      " [  0 839]]\n"
     ]
    }
   ],
   "source": [
    "print(\"Confusion Matrix:\")\n",
    "print(confusion_matrix(y_test, y_pred))"
   ]
  },
  {
   "cell_type": "code",
   "execution_count": 67,
   "metadata": {},
   "outputs": [],
   "source": [
    "classification_rep= classification_report(y_test,y_pred)\n",
    "conf_matrix= confusion_matrix(y_test,y_pred)"
   ]
  },
  {
   "cell_type": "code",
   "execution_count": 68,
   "metadata": {},
   "outputs": [
    {
     "data": {
      "image/png": "[encoded data removed]",
      "text/plain": [
       "<Figure size 600x500 with 2 Axes>"
      ]
     },
     "metadata": {},
     "output_type": "display_data"
    }
   ],
   "source": [
    "plt.figure(figsize=(6,5))\n",
    "sns.heatmap(conf_matrix, annot=True, fmt=\"d\" , cmap=\"Blues\")\n",
    "plt.xlabel(\"predicted label\")\n",
    "plt.ylabel(\"True label\")\n",
    "plt.title(\"confusion matrix - \")\n",
    "plt.show()"
   ]
  },
  {
   "cell_type": "code",
   "execution_count": 69,
   "metadata": {},
   "outputs": [
    {
     "data": {
      "text/plain": [
       "['C:\\\\Users\\\\YAHFAN\\\\OneDrive\\\\Desktop\\\\yahfan17\\\\project.pkl']"
      ]
     },
     "execution_count": 69,
     "metadata": {},
     "output_type": "execute_result"
    }
   ],
   "source": [
    "joblib.dump(best_lr,r\"C:\\Users\\YAHFAN\\OneDrive\\Desktop\\yahfan17\\project.pkl\")"
   ]
  },
  {
   "cell_type": "code",
   "execution_count": 70,
   "metadata": {},
   "outputs": [
    {
     "data": {
      "text/plain": [
       "['C:\\\\Users\\\\YAHFAN\\\\OneDrive\\\\Desktop\\\\yahfan17\\\\scaler.pkl']"
      ]
     },
     "execution_count": 70,
     "metadata": {},
     "output_type": "execute_result"
    }
   ],
   "source": [
    "joblib.dump(le1,r\"C:\\Users\\YAHFAN\\OneDrive\\Desktop\\yahfan17\\le1.pkl\")\n",
    "joblib.dump(le2,r\"C:\\Users\\YAHFAN\\OneDrive\\Desktop\\yahfan17\\le2.pkl\")\n",
    "joblib.dump(le3,r\"C:\\Users\\YAHFAN\\OneDrive\\Desktop\\yahfan17\\le3.pkl\")\n",
    "joblib.dump(le4,r\"C:\\Users\\YAHFAN\\OneDrive\\Desktop\\yahfan17\\le4.pkl\")\n",
    "joblib.dump(le5,r\"C:\\Users\\YAHFAN\\OneDrive\\Desktop\\yahfan17\\le5.pkl\")\n",
    "joblib.dump(le6,r\"C:\\Users\\YAHFAN\\OneDrive\\Desktop\\yahfan17\\le6.pkl\")\n",
    "joblib.dump(le7,r\"C:\\Users\\YAHFAN\\OneDrive\\Desktop\\yahfan17\\le7.pkl\")\n",
    "joblib.dump(le8,r\"C:\\Users\\YAHFAN\\OneDrive\\Desktop\\yahfan17\\le8.pkl\")\n",
    "joblib.dump(le9,r\"C:\\Users\\YAHFAN\\OneDrive\\Desktop\\yahfan17\\le9.pkl\")\n",
    "joblib.dump(scaler,r\"C:\\Users\\YAHFAN\\OneDrive\\Desktop\\yahfan17\\scaler.pkl\")"
   ]
  },
  {
   "cell_type": "code",
   "execution_count": null,
   "metadata": {},
   "outputs": [],
   "source": []
  }
 ],
 "metadata": {
  "colab": {
   "provenance": []
  },
  "kernelspec": {
   "display_name": "Python 3 (ipykernel)",
   "language": "python",
   "name": "python3"
  },
  "language_info": {
   "codemirror_mode": {
    "name": "ipython",
    "version": 3
   },
   "file_extension": ".py",
   "mimetype": "text/x-python",
   "name": "python",
   "nbconvert_exporter": "python",
   "pygments_lexer": "ipython3",
   "version": "3.12.4"
  }
 },
 "nbformat": 4,
 "nbformat_minor": 4
}
